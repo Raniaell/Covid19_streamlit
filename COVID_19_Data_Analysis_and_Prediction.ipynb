{
  "nbformat": 4,
  "nbformat_minor": 0,
  "metadata": {
    "colab": {
      "provenance": [],
      "authorship_tag": "ABX9TyO1fe8ARXUgHiBq4ck8W3yy",
      "include_colab_link": true
    },
    "kernelspec": {
      "name": "python3",
      "display_name": "Python 3"
    },
    "language_info": {
      "name": "python"
    }
  },
  "cells": [
    {
      "cell_type": "markdown",
      "metadata": {
        "id": "view-in-github",
        "colab_type": "text"
      },
      "source": [
        "<a href=\"https://colab.research.google.com/github/Raniaell/Covid19_streamlit/blob/main/COVID_19_Data_Analysis_and_Prediction.ipynb\" target=\"_parent\"><img src=\"https://colab.research.google.com/assets/colab-badge.svg\" alt=\"Open In Colab\"/></a>"
      ]
    },
    {
      "cell_type": "markdown",
      "source": [
        "**Checkpoint Objective**\n",
        "\n",
        "You have been tasked to gather COVID-19 data from the API of your choice that contains both noise and valuable data. After that, you will clean and pre-process the data, perform exploratory data analysis (EDA) to gain insights, and select the best-suited supervised algorithm to predict the future number of cases. Finally, you will deploy the model using Streamlit."
      ],
      "metadata": {
        "id": "XIG3_uLAjHVj"
      }
    },
    {
      "cell_type": "markdown",
      "source": [
        "**Instructions**\n",
        "\n",
        "1. Choose a COVID-19 API of your choice that contains both valuable data and noise.\n",
        "2. Use Python to gather the data from the API and store it in a Pandas DataFrame.\n",
        "3. Clean the data by removing any irrelevant columns, null values, or duplicates.\n",
        "4. Pre-process the data by normalizing and scaling the numerical data.\n",
        "5. Perform EDA to identify trends, correlations, and patterns in the data. Use visualizations such as histograms, scatter plots, and heatmaps to help you understand the data better.\n",
        "6. Choose the best-suited supervised algorithm to predict the future number of cases. Use techniques such as train-test split, cross-validation, and grid search to optimize the model's performance.\n",
        "7. Once you have chosen the best-suited model, deploy it using Streamlit. Create a user-friendly interface that allows users to input data and view the model's predictions.\n",
        "8. Deploy your streamlit app with streamlit share\n",
        "\n",
        "**Hints:**\n",
        "\n",
        "1. Use the requests library to fetch data from the API.\n",
        "2. Use the Pandas library to store the data in a DataFrame and clean it.\n",
        "3. Use the plotly  library to create visualizations.\n",
        "4. Use the Scikit-learn library to build and optimize the model.\n",
        "5. Use the Streamlit library to create the user interface."
      ],
      "metadata": {
        "id": "PpGsH6ZIjNLJ"
      }
    },
    {
      "cell_type": "markdown",
      "source": [
        "#### pip install"
      ],
      "metadata": {
        "id": "TwvbyESIoG_p"
      }
    },
    {
      "cell_type": "code",
      "source": [
        "!pip install pandas-profiling"
      ],
      "metadata": {
        "id": "-nRcmtsXSczp"
      },
      "execution_count": null,
      "outputs": []
    },
    {
      "cell_type": "code",
      "source": [
        "! python -m pip install requests"
      ],
      "metadata": {
        "id": "9BT4vNxU7mCh"
      },
      "execution_count": null,
      "outputs": []
    },
    {
      "cell_type": "markdown",
      "source": [
        "#### Importing libraries"
      ],
      "metadata": {
        "id": "8YhSQFdxjhHC"
      }
    },
    {
      "cell_type": "code",
      "execution_count": null,
      "metadata": {
        "id": "ECRKM2LK7kZJ"
      },
      "outputs": [],
      "source": [
        "import requests\n",
        "import pandas as pd\n",
        "import pandas_profiling as pp\n",
        "import plotly.express as px\n",
        "from sklearn.model_selection import train_test_split\n",
        "from sklearn.linear_model import LinearRegression\n",
        "from sklearn.metrics import mean_squared_error\n",
        "from sklearn import metrics\n",
        "import matplotlib.pyplot as plt\n",
        "from sklearn.linear_model import LinearRegression\n",
        "from sklearn.preprocessing import PolynomialFeatures"
      ]
    },
    {
      "cell_type": "markdown",
      "source": [
        "#### API"
      ],
      "metadata": {
        "id": "PO-l7pZLjoYw"
      }
    },
    {
      "cell_type": "code",
      "source": [
        "api_url = \"https://api.coronavirus.data.gov.uk/v1/data\"\n",
        "response = requests.get(api_url)"
      ],
      "metadata": {
        "id": "oYfUbjhB7llC"
      },
      "execution_count": 4,
      "outputs": []
    },
    {
      "cell_type": "code",
      "source": [
        "data= response.json()"
      ],
      "metadata": {
        "id": "uIPbh7679IXR"
      },
      "execution_count": 5,
      "outputs": []
    },
    {
      "cell_type": "code",
      "source": [
        "data['data']"
      ],
      "metadata": {
        "id": "aGaun0u69dgg"
      },
      "execution_count": null,
      "outputs": []
    },
    {
      "cell_type": "markdown",
      "source": [
        "#### API to Pandas DataFrame"
      ],
      "metadata": {
        "id": "YN43adCbjsXx"
      }
    },
    {
      "cell_type": "code",
      "source": [
        "df = pd.DataFrame(data['data'])"
      ],
      "metadata": {
        "id": "cz_d9b8l9MBh"
      },
      "execution_count": 7,
      "outputs": []
    },
    {
      "cell_type": "code",
      "source": [
        "df"
      ],
      "metadata": {
        "colab": {
          "base_uri": "https://localhost:8080/",
          "height": 423
        },
        "id": "XKFtn5VY9aeh",
        "outputId": "c6c17da9-621e-4e2c-e8d2-921bd64415fa"
      },
      "execution_count": 51,
      "outputs": [
        {
          "output_type": "execute_result",
          "data": {
            "text/plain": [
              "           date  latestBy  confirmed  deathNew     death\n",
              "0    2022-05-20      6338   22238713      87.0  177977.0\n",
              "1    2022-05-19     12208   22232377     169.0  177890.0\n",
              "2    2022-05-18      7791   22220178     126.0  177721.0\n",
              "3    2022-05-17      8603   22212395     185.0  177595.0\n",
              "4    2022-05-16     22337   22203799     153.0  177410.0\n",
              "..          ...       ...        ...       ...       ...\n",
              "801  2020-03-10        52        373       4.0       7.0\n",
              "802  2020-03-09        50        321       1.0       3.0\n",
              "803  2020-03-08        65        271       0.0       2.0\n",
              "804  2020-03-07        46        206       1.0       2.0\n",
              "805  2020-03-06        46        160       1.0       1.0\n",
              "\n",
              "[806 rows x 5 columns]"
            ],
            "text/html": [
              "\n",
              "\n",
              "  <div id=\"df-7ebe31c3-4479-4dd7-beec-0996123f98aa\">\n",
              "    <div class=\"colab-df-container\">\n",
              "      <div>\n",
              "<style scoped>\n",
              "    .dataframe tbody tr th:only-of-type {\n",
              "        vertical-align: middle;\n",
              "    }\n",
              "\n",
              "    .dataframe tbody tr th {\n",
              "        vertical-align: top;\n",
              "    }\n",
              "\n",
              "    .dataframe thead th {\n",
              "        text-align: right;\n",
              "    }\n",
              "</style>\n",
              "<table border=\"1\" class=\"dataframe\">\n",
              "  <thead>\n",
              "    <tr style=\"text-align: right;\">\n",
              "      <th></th>\n",
              "      <th>date</th>\n",
              "      <th>latestBy</th>\n",
              "      <th>confirmed</th>\n",
              "      <th>deathNew</th>\n",
              "      <th>death</th>\n",
              "    </tr>\n",
              "  </thead>\n",
              "  <tbody>\n",
              "    <tr>\n",
              "      <th>0</th>\n",
              "      <td>2022-05-20</td>\n",
              "      <td>6338</td>\n",
              "      <td>22238713</td>\n",
              "      <td>87.0</td>\n",
              "      <td>177977.0</td>\n",
              "    </tr>\n",
              "    <tr>\n",
              "      <th>1</th>\n",
              "      <td>2022-05-19</td>\n",
              "      <td>12208</td>\n",
              "      <td>22232377</td>\n",
              "      <td>169.0</td>\n",
              "      <td>177890.0</td>\n",
              "    </tr>\n",
              "    <tr>\n",
              "      <th>2</th>\n",
              "      <td>2022-05-18</td>\n",
              "      <td>7791</td>\n",
              "      <td>22220178</td>\n",
              "      <td>126.0</td>\n",
              "      <td>177721.0</td>\n",
              "    </tr>\n",
              "    <tr>\n",
              "      <th>3</th>\n",
              "      <td>2022-05-17</td>\n",
              "      <td>8603</td>\n",
              "      <td>22212395</td>\n",
              "      <td>185.0</td>\n",
              "      <td>177595.0</td>\n",
              "    </tr>\n",
              "    <tr>\n",
              "      <th>4</th>\n",
              "      <td>2022-05-16</td>\n",
              "      <td>22337</td>\n",
              "      <td>22203799</td>\n",
              "      <td>153.0</td>\n",
              "      <td>177410.0</td>\n",
              "    </tr>\n",
              "    <tr>\n",
              "      <th>...</th>\n",
              "      <td>...</td>\n",
              "      <td>...</td>\n",
              "      <td>...</td>\n",
              "      <td>...</td>\n",
              "      <td>...</td>\n",
              "    </tr>\n",
              "    <tr>\n",
              "      <th>801</th>\n",
              "      <td>2020-03-10</td>\n",
              "      <td>52</td>\n",
              "      <td>373</td>\n",
              "      <td>4.0</td>\n",
              "      <td>7.0</td>\n",
              "    </tr>\n",
              "    <tr>\n",
              "      <th>802</th>\n",
              "      <td>2020-03-09</td>\n",
              "      <td>50</td>\n",
              "      <td>321</td>\n",
              "      <td>1.0</td>\n",
              "      <td>3.0</td>\n",
              "    </tr>\n",
              "    <tr>\n",
              "      <th>803</th>\n",
              "      <td>2020-03-08</td>\n",
              "      <td>65</td>\n",
              "      <td>271</td>\n",
              "      <td>0.0</td>\n",
              "      <td>2.0</td>\n",
              "    </tr>\n",
              "    <tr>\n",
              "      <th>804</th>\n",
              "      <td>2020-03-07</td>\n",
              "      <td>46</td>\n",
              "      <td>206</td>\n",
              "      <td>1.0</td>\n",
              "      <td>2.0</td>\n",
              "    </tr>\n",
              "    <tr>\n",
              "      <th>805</th>\n",
              "      <td>2020-03-06</td>\n",
              "      <td>46</td>\n",
              "      <td>160</td>\n",
              "      <td>1.0</td>\n",
              "      <td>1.0</td>\n",
              "    </tr>\n",
              "  </tbody>\n",
              "</table>\n",
              "<p>806 rows × 5 columns</p>\n",
              "</div>\n",
              "      <button class=\"colab-df-convert\" onclick=\"convertToInteractive('df-7ebe31c3-4479-4dd7-beec-0996123f98aa')\"\n",
              "              title=\"Convert this dataframe to an interactive table.\"\n",
              "              style=\"display:none;\">\n",
              "\n",
              "  <svg xmlns=\"http://www.w3.org/2000/svg\" height=\"24px\"viewBox=\"0 0 24 24\"\n",
              "       width=\"24px\">\n",
              "    <path d=\"M0 0h24v24H0V0z\" fill=\"none\"/>\n",
              "    <path d=\"M18.56 5.44l.94 2.06.94-2.06 2.06-.94-2.06-.94-.94-2.06-.94 2.06-2.06.94zm-11 1L8.5 8.5l.94-2.06 2.06-.94-2.06-.94L8.5 2.5l-.94 2.06-2.06.94zm10 10l.94 2.06.94-2.06 2.06-.94-2.06-.94-.94-2.06-.94 2.06-2.06.94z\"/><path d=\"M17.41 7.96l-1.37-1.37c-.4-.4-.92-.59-1.43-.59-.52 0-1.04.2-1.43.59L10.3 9.45l-7.72 7.72c-.78.78-.78 2.05 0 2.83L4 21.41c.39.39.9.59 1.41.59.51 0 1.02-.2 1.41-.59l7.78-7.78 2.81-2.81c.8-.78.8-2.07 0-2.86zM5.41 20L4 18.59l7.72-7.72 1.47 1.35L5.41 20z\"/>\n",
              "  </svg>\n",
              "      </button>\n",
              "\n",
              "\n",
              "\n",
              "    <div id=\"df-96cdb279-e01a-462d-bc0c-4dbe93ff712a\">\n",
              "      <button class=\"colab-df-quickchart\" onclick=\"quickchart('df-96cdb279-e01a-462d-bc0c-4dbe93ff712a')\"\n",
              "              title=\"Suggest charts.\"\n",
              "              style=\"display:none;\">\n",
              "\n",
              "<svg xmlns=\"http://www.w3.org/2000/svg\" height=\"24px\"viewBox=\"0 0 24 24\"\n",
              "     width=\"24px\">\n",
              "    <g>\n",
              "        <path d=\"M19 3H5c-1.1 0-2 .9-2 2v14c0 1.1.9 2 2 2h14c1.1 0 2-.9 2-2V5c0-1.1-.9-2-2-2zM9 17H7v-7h2v7zm4 0h-2V7h2v10zm4 0h-2v-4h2v4z\"/>\n",
              "    </g>\n",
              "</svg>\n",
              "      </button>\n",
              "    </div>\n",
              "\n",
              "<style>\n",
              "  .colab-df-quickchart {\n",
              "    background-color: #E8F0FE;\n",
              "    border: none;\n",
              "    border-radius: 50%;\n",
              "    cursor: pointer;\n",
              "    display: none;\n",
              "    fill: #1967D2;\n",
              "    height: 32px;\n",
              "    padding: 0 0 0 0;\n",
              "    width: 32px;\n",
              "  }\n",
              "\n",
              "  .colab-df-quickchart:hover {\n",
              "    background-color: #E2EBFA;\n",
              "    box-shadow: 0px 1px 2px rgba(60, 64, 67, 0.3), 0px 1px 3px 1px rgba(60, 64, 67, 0.15);\n",
              "    fill: #174EA6;\n",
              "  }\n",
              "\n",
              "  [theme=dark] .colab-df-quickchart {\n",
              "    background-color: #3B4455;\n",
              "    fill: #D2E3FC;\n",
              "  }\n",
              "\n",
              "  [theme=dark] .colab-df-quickchart:hover {\n",
              "    background-color: #434B5C;\n",
              "    box-shadow: 0px 1px 3px 1px rgba(0, 0, 0, 0.15);\n",
              "    filter: drop-shadow(0px 1px 2px rgba(0, 0, 0, 0.3));\n",
              "    fill: #FFFFFF;\n",
              "  }\n",
              "</style>\n",
              "\n",
              "    <script>\n",
              "      async function quickchart(key) {\n",
              "        const containerElement = document.querySelector('#' + key);\n",
              "        const charts = await google.colab.kernel.invokeFunction(\n",
              "            'suggestCharts', [key], {});\n",
              "      }\n",
              "    </script>\n",
              "\n",
              "      <script>\n",
              "\n",
              "function displayQuickchartButton(domScope) {\n",
              "  let quickchartButtonEl =\n",
              "    domScope.querySelector('#df-96cdb279-e01a-462d-bc0c-4dbe93ff712a button.colab-df-quickchart');\n",
              "  quickchartButtonEl.style.display =\n",
              "    google.colab.kernel.accessAllowed ? 'block' : 'none';\n",
              "}\n",
              "\n",
              "        displayQuickchartButton(document);\n",
              "      </script>\n",
              "      <style>\n",
              "    .colab-df-container {\n",
              "      display:flex;\n",
              "      flex-wrap:wrap;\n",
              "      gap: 12px;\n",
              "    }\n",
              "\n",
              "    .colab-df-convert {\n",
              "      background-color: #E8F0FE;\n",
              "      border: none;\n",
              "      border-radius: 50%;\n",
              "      cursor: pointer;\n",
              "      display: none;\n",
              "      fill: #1967D2;\n",
              "      height: 32px;\n",
              "      padding: 0 0 0 0;\n",
              "      width: 32px;\n",
              "    }\n",
              "\n",
              "    .colab-df-convert:hover {\n",
              "      background-color: #E2EBFA;\n",
              "      box-shadow: 0px 1px 2px rgba(60, 64, 67, 0.3), 0px 1px 3px 1px rgba(60, 64, 67, 0.15);\n",
              "      fill: #174EA6;\n",
              "    }\n",
              "\n",
              "    [theme=dark] .colab-df-convert {\n",
              "      background-color: #3B4455;\n",
              "      fill: #D2E3FC;\n",
              "    }\n",
              "\n",
              "    [theme=dark] .colab-df-convert:hover {\n",
              "      background-color: #434B5C;\n",
              "      box-shadow: 0px 1px 3px 1px rgba(0, 0, 0, 0.15);\n",
              "      filter: drop-shadow(0px 1px 2px rgba(0, 0, 0, 0.3));\n",
              "      fill: #FFFFFF;\n",
              "    }\n",
              "  </style>\n",
              "\n",
              "      <script>\n",
              "        const buttonEl =\n",
              "          document.querySelector('#df-7ebe31c3-4479-4dd7-beec-0996123f98aa button.colab-df-convert');\n",
              "        buttonEl.style.display =\n",
              "          google.colab.kernel.accessAllowed ? 'block' : 'none';\n",
              "\n",
              "        async function convertToInteractive(key) {\n",
              "          const element = document.querySelector('#df-7ebe31c3-4479-4dd7-beec-0996123f98aa');\n",
              "          const dataTable =\n",
              "            await google.colab.kernel.invokeFunction('convertToInteractive',\n",
              "                                                     [key], {});\n",
              "          if (!dataTable) return;\n",
              "\n",
              "          const docLinkHtml = 'Like what you see? Visit the ' +\n",
              "            '<a target=\"_blank\" href=https://colab.research.google.com/notebooks/data_table.ipynb>data table notebook</a>'\n",
              "            + ' to learn more about interactive tables.';\n",
              "          element.innerHTML = '';\n",
              "          dataTable['output_type'] = 'display_data';\n",
              "          await google.colab.output.renderOutput(dataTable, element);\n",
              "          const docLink = document.createElement('div');\n",
              "          docLink.innerHTML = docLinkHtml;\n",
              "          element.appendChild(docLink);\n",
              "        }\n",
              "      </script>\n",
              "    </div>\n",
              "  </div>\n"
            ]
          },
          "metadata": {},
          "execution_count": 51
        }
      ]
    },
    {
      "cell_type": "code",
      "source": [
        "df.info()"
      ],
      "metadata": {
        "id": "yxcEue5_UuAX"
      },
      "execution_count": null,
      "outputs": []
    },
    {
      "cell_type": "code",
      "source": [
        "df.describe()"
      ],
      "metadata": {
        "colab": {
          "base_uri": "https://localhost:8080/",
          "height": 300
        },
        "id": "2c-bIXgtUup1",
        "outputId": "e1c1cf80-de19-41ad-e82c-8bcddabb2bc9"
      },
      "execution_count": 10,
      "outputs": [
        {
          "output_type": "execute_result",
          "data": {
            "text/plain": [
              "       confirmedRate       latestBy     confirmed     deathNew          death  \\\n",
              "count      811.00000     841.000000  8.410000e+02   806.000000     806.000000   \n",
              "mean      9380.05894   25587.231867  6.067803e+06   216.017370  100634.790323   \n",
              "std      10045.50811   34282.249852  6.719465e+06   292.555338   52127.122593   \n",
              "min          0.10000       0.000000  2.000000e+00     0.000000       1.000000   \n",
              "25%        584.80000    2396.000000  3.316440e+05    26.000000   41872.000000   \n",
              "50%       6514.20000   13013.000000  4.325315e+06   120.000000  127111.500000   \n",
              "75%      13415.95000   37314.000000  8.689949e+06   271.500000  140613.500000   \n",
              "max      33151.90000  226524.000000  2.223871e+07  1820.000000  177977.000000   \n",
              "\n",
              "        deathRate  \n",
              "count  797.000000  \n",
              "mean   151.713676  \n",
              "std     76.480744  \n",
              "min      0.100000  \n",
              "25%     62.800000  \n",
              "50%    189.700000  \n",
              "75%    210.100000  \n",
              "max    265.300000  "
            ],
            "text/html": [
              "\n",
              "\n",
              "  <div id=\"df-09107b9b-1d12-4e94-8fb4-b7d58d4313ea\">\n",
              "    <div class=\"colab-df-container\">\n",
              "      <div>\n",
              "<style scoped>\n",
              "    .dataframe tbody tr th:only-of-type {\n",
              "        vertical-align: middle;\n",
              "    }\n",
              "\n",
              "    .dataframe tbody tr th {\n",
              "        vertical-align: top;\n",
              "    }\n",
              "\n",
              "    .dataframe thead th {\n",
              "        text-align: right;\n",
              "    }\n",
              "</style>\n",
              "<table border=\"1\" class=\"dataframe\">\n",
              "  <thead>\n",
              "    <tr style=\"text-align: right;\">\n",
              "      <th></th>\n",
              "      <th>confirmedRate</th>\n",
              "      <th>latestBy</th>\n",
              "      <th>confirmed</th>\n",
              "      <th>deathNew</th>\n",
              "      <th>death</th>\n",
              "      <th>deathRate</th>\n",
              "    </tr>\n",
              "  </thead>\n",
              "  <tbody>\n",
              "    <tr>\n",
              "      <th>count</th>\n",
              "      <td>811.00000</td>\n",
              "      <td>841.000000</td>\n",
              "      <td>8.410000e+02</td>\n",
              "      <td>806.000000</td>\n",
              "      <td>806.000000</td>\n",
              "      <td>797.000000</td>\n",
              "    </tr>\n",
              "    <tr>\n",
              "      <th>mean</th>\n",
              "      <td>9380.05894</td>\n",
              "      <td>25587.231867</td>\n",
              "      <td>6.067803e+06</td>\n",
              "      <td>216.017370</td>\n",
              "      <td>100634.790323</td>\n",
              "      <td>151.713676</td>\n",
              "    </tr>\n",
              "    <tr>\n",
              "      <th>std</th>\n",
              "      <td>10045.50811</td>\n",
              "      <td>34282.249852</td>\n",
              "      <td>6.719465e+06</td>\n",
              "      <td>292.555338</td>\n",
              "      <td>52127.122593</td>\n",
              "      <td>76.480744</td>\n",
              "    </tr>\n",
              "    <tr>\n",
              "      <th>min</th>\n",
              "      <td>0.10000</td>\n",
              "      <td>0.000000</td>\n",
              "      <td>2.000000e+00</td>\n",
              "      <td>0.000000</td>\n",
              "      <td>1.000000</td>\n",
              "      <td>0.100000</td>\n",
              "    </tr>\n",
              "    <tr>\n",
              "      <th>25%</th>\n",
              "      <td>584.80000</td>\n",
              "      <td>2396.000000</td>\n",
              "      <td>3.316440e+05</td>\n",
              "      <td>26.000000</td>\n",
              "      <td>41872.000000</td>\n",
              "      <td>62.800000</td>\n",
              "    </tr>\n",
              "    <tr>\n",
              "      <th>50%</th>\n",
              "      <td>6514.20000</td>\n",
              "      <td>13013.000000</td>\n",
              "      <td>4.325315e+06</td>\n",
              "      <td>120.000000</td>\n",
              "      <td>127111.500000</td>\n",
              "      <td>189.700000</td>\n",
              "    </tr>\n",
              "    <tr>\n",
              "      <th>75%</th>\n",
              "      <td>13415.95000</td>\n",
              "      <td>37314.000000</td>\n",
              "      <td>8.689949e+06</td>\n",
              "      <td>271.500000</td>\n",
              "      <td>140613.500000</td>\n",
              "      <td>210.100000</td>\n",
              "    </tr>\n",
              "    <tr>\n",
              "      <th>max</th>\n",
              "      <td>33151.90000</td>\n",
              "      <td>226524.000000</td>\n",
              "      <td>2.223871e+07</td>\n",
              "      <td>1820.000000</td>\n",
              "      <td>177977.000000</td>\n",
              "      <td>265.300000</td>\n",
              "    </tr>\n",
              "  </tbody>\n",
              "</table>\n",
              "</div>\n",
              "      <button class=\"colab-df-convert\" onclick=\"convertToInteractive('df-09107b9b-1d12-4e94-8fb4-b7d58d4313ea')\"\n",
              "              title=\"Convert this dataframe to an interactive table.\"\n",
              "              style=\"display:none;\">\n",
              "\n",
              "  <svg xmlns=\"http://www.w3.org/2000/svg\" height=\"24px\"viewBox=\"0 0 24 24\"\n",
              "       width=\"24px\">\n",
              "    <path d=\"M0 0h24v24H0V0z\" fill=\"none\"/>\n",
              "    <path d=\"M18.56 5.44l.94 2.06.94-2.06 2.06-.94-2.06-.94-.94-2.06-.94 2.06-2.06.94zm-11 1L8.5 8.5l.94-2.06 2.06-.94-2.06-.94L8.5 2.5l-.94 2.06-2.06.94zm10 10l.94 2.06.94-2.06 2.06-.94-2.06-.94-.94-2.06-.94 2.06-2.06.94z\"/><path d=\"M17.41 7.96l-1.37-1.37c-.4-.4-.92-.59-1.43-.59-.52 0-1.04.2-1.43.59L10.3 9.45l-7.72 7.72c-.78.78-.78 2.05 0 2.83L4 21.41c.39.39.9.59 1.41.59.51 0 1.02-.2 1.41-.59l7.78-7.78 2.81-2.81c.8-.78.8-2.07 0-2.86zM5.41 20L4 18.59l7.72-7.72 1.47 1.35L5.41 20z\"/>\n",
              "  </svg>\n",
              "      </button>\n",
              "\n",
              "\n",
              "\n",
              "    <div id=\"df-86950572-19a4-44f4-a0e5-7eff715f0e4d\">\n",
              "      <button class=\"colab-df-quickchart\" onclick=\"quickchart('df-86950572-19a4-44f4-a0e5-7eff715f0e4d')\"\n",
              "              title=\"Suggest charts.\"\n",
              "              style=\"display:none;\">\n",
              "\n",
              "<svg xmlns=\"http://www.w3.org/2000/svg\" height=\"24px\"viewBox=\"0 0 24 24\"\n",
              "     width=\"24px\">\n",
              "    <g>\n",
              "        <path d=\"M19 3H5c-1.1 0-2 .9-2 2v14c0 1.1.9 2 2 2h14c1.1 0 2-.9 2-2V5c0-1.1-.9-2-2-2zM9 17H7v-7h2v7zm4 0h-2V7h2v10zm4 0h-2v-4h2v4z\"/>\n",
              "    </g>\n",
              "</svg>\n",
              "      </button>\n",
              "    </div>\n",
              "\n",
              "<style>\n",
              "  .colab-df-quickchart {\n",
              "    background-color: #E8F0FE;\n",
              "    border: none;\n",
              "    border-radius: 50%;\n",
              "    cursor: pointer;\n",
              "    display: none;\n",
              "    fill: #1967D2;\n",
              "    height: 32px;\n",
              "    padding: 0 0 0 0;\n",
              "    width: 32px;\n",
              "  }\n",
              "\n",
              "  .colab-df-quickchart:hover {\n",
              "    background-color: #E2EBFA;\n",
              "    box-shadow: 0px 1px 2px rgba(60, 64, 67, 0.3), 0px 1px 3px 1px rgba(60, 64, 67, 0.15);\n",
              "    fill: #174EA6;\n",
              "  }\n",
              "\n",
              "  [theme=dark] .colab-df-quickchart {\n",
              "    background-color: #3B4455;\n",
              "    fill: #D2E3FC;\n",
              "  }\n",
              "\n",
              "  [theme=dark] .colab-df-quickchart:hover {\n",
              "    background-color: #434B5C;\n",
              "    box-shadow: 0px 1px 3px 1px rgba(0, 0, 0, 0.15);\n",
              "    filter: drop-shadow(0px 1px 2px rgba(0, 0, 0, 0.3));\n",
              "    fill: #FFFFFF;\n",
              "  }\n",
              "</style>\n",
              "\n",
              "    <script>\n",
              "      async function quickchart(key) {\n",
              "        const containerElement = document.querySelector('#' + key);\n",
              "        const charts = await google.colab.kernel.invokeFunction(\n",
              "            'suggestCharts', [key], {});\n",
              "      }\n",
              "    </script>\n",
              "\n",
              "      <script>\n",
              "\n",
              "function displayQuickchartButton(domScope) {\n",
              "  let quickchartButtonEl =\n",
              "    domScope.querySelector('#df-86950572-19a4-44f4-a0e5-7eff715f0e4d button.colab-df-quickchart');\n",
              "  quickchartButtonEl.style.display =\n",
              "    google.colab.kernel.accessAllowed ? 'block' : 'none';\n",
              "}\n",
              "\n",
              "        displayQuickchartButton(document);\n",
              "      </script>\n",
              "      <style>\n",
              "    .colab-df-container {\n",
              "      display:flex;\n",
              "      flex-wrap:wrap;\n",
              "      gap: 12px;\n",
              "    }\n",
              "\n",
              "    .colab-df-convert {\n",
              "      background-color: #E8F0FE;\n",
              "      border: none;\n",
              "      border-radius: 50%;\n",
              "      cursor: pointer;\n",
              "      display: none;\n",
              "      fill: #1967D2;\n",
              "      height: 32px;\n",
              "      padding: 0 0 0 0;\n",
              "      width: 32px;\n",
              "    }\n",
              "\n",
              "    .colab-df-convert:hover {\n",
              "      background-color: #E2EBFA;\n",
              "      box-shadow: 0px 1px 2px rgba(60, 64, 67, 0.3), 0px 1px 3px 1px rgba(60, 64, 67, 0.15);\n",
              "      fill: #174EA6;\n",
              "    }\n",
              "\n",
              "    [theme=dark] .colab-df-convert {\n",
              "      background-color: #3B4455;\n",
              "      fill: #D2E3FC;\n",
              "    }\n",
              "\n",
              "    [theme=dark] .colab-df-convert:hover {\n",
              "      background-color: #434B5C;\n",
              "      box-shadow: 0px 1px 3px 1px rgba(0, 0, 0, 0.15);\n",
              "      filter: drop-shadow(0px 1px 2px rgba(0, 0, 0, 0.3));\n",
              "      fill: #FFFFFF;\n",
              "    }\n",
              "  </style>\n",
              "\n",
              "      <script>\n",
              "        const buttonEl =\n",
              "          document.querySelector('#df-09107b9b-1d12-4e94-8fb4-b7d58d4313ea button.colab-df-convert');\n",
              "        buttonEl.style.display =\n",
              "          google.colab.kernel.accessAllowed ? 'block' : 'none';\n",
              "\n",
              "        async function convertToInteractive(key) {\n",
              "          const element = document.querySelector('#df-09107b9b-1d12-4e94-8fb4-b7d58d4313ea');\n",
              "          const dataTable =\n",
              "            await google.colab.kernel.invokeFunction('convertToInteractive',\n",
              "                                                     [key], {});\n",
              "          if (!dataTable) return;\n",
              "\n",
              "          const docLinkHtml = 'Like what you see? Visit the ' +\n",
              "            '<a target=\"_blank\" href=https://colab.research.google.com/notebooks/data_table.ipynb>data table notebook</a>'\n",
              "            + ' to learn more about interactive tables.';\n",
              "          element.innerHTML = '';\n",
              "          dataTable['output_type'] = 'display_data';\n",
              "          await google.colab.output.renderOutput(dataTable, element);\n",
              "          const docLink = document.createElement('div');\n",
              "          docLink.innerHTML = docLinkHtml;\n",
              "          element.appendChild(docLink);\n",
              "        }\n",
              "      </script>\n",
              "    </div>\n",
              "  </div>\n"
            ]
          },
          "metadata": {},
          "execution_count": 10
        }
      ]
    },
    {
      "cell_type": "code",
      "source": [
        "df.isnull().sum()"
      ],
      "metadata": {
        "colab": {
          "base_uri": "https://localhost:8080/"
        },
        "id": "13L62fZcAMTb",
        "outputId": "0b3a762b-00a8-4b2e-98bb-46bfc9056e02"
      },
      "execution_count": 11,
      "outputs": [
        {
          "output_type": "execute_result",
          "data": {
            "text/plain": [
              "date              0\n",
              "areaName          0\n",
              "areaCode          0\n",
              "confirmedRate    30\n",
              "latestBy          0\n",
              "confirmed         0\n",
              "deathNew         35\n",
              "death            35\n",
              "deathRate        44\n",
              "dtype: int64"
            ]
          },
          "metadata": {},
          "execution_count": 11
        }
      ]
    },
    {
      "cell_type": "markdown",
      "source": [
        "#### Pandas profiling"
      ],
      "metadata": {
        "id": "_v_UE_mskr5a"
      }
    },
    {
      "cell_type": "code",
      "source": [
        "#profile = pp.ProfileReport(df, title='Covid 19 Report')"
      ],
      "metadata": {
        "id": "PbldwAgFQeM3"
      },
      "execution_count": 12,
      "outputs": []
    },
    {
      "cell_type": "code",
      "source": [
        "#profile.to_file(\"Covid_19 profile\")"
      ],
      "metadata": {
        "id": "54_gTxqwTHsQ"
      },
      "execution_count": 13,
      "outputs": []
    },
    {
      "cell_type": "markdown",
      "source": [
        "#### Cleaning"
      ],
      "metadata": {
        "id": "rK6SJQz5larA"
      }
    },
    {
      "cell_type": "code",
      "source": [
        "df.drop(columns=['areaName','areaCode','confirmedRate','deathRate'], inplace=True)"
      ],
      "metadata": {
        "id": "kmrrl5AIWMC2"
      },
      "execution_count": 14,
      "outputs": []
    },
    {
      "cell_type": "code",
      "source": [
        "df.dropna(inplace=True)"
      ],
      "metadata": {
        "id": "rbdWAmSlJ9Ds"
      },
      "execution_count": 15,
      "outputs": []
    },
    {
      "cell_type": "markdown",
      "source": [
        "Drop columns:\n",
        "\n",
        "* areaname: we have only one value which is UK\n",
        "* areacode: same as areaname\n",
        "* confirmedRate: it's highly correlated with confirmed (gives the same information)\n",
        "* deathRate: highly correlated with death"
      ],
      "metadata": {
        "id": "g26LCveihlJa"
      }
    },
    {
      "cell_type": "markdown",
      "source": [],
      "metadata": {
        "id": "_oW4yLeZo7Na"
      }
    },
    {
      "cell_type": "code",
      "source": [
        "fig = px.scatter(x=df['confirmed'], y=df['death'], trendline=\"ols\", title=\"The number of confirmed cases and deaths\")\n",
        "\n",
        "fig.show()"
      ],
      "metadata": {
        "colab": {
          "base_uri": "https://localhost:8080/",
          "height": 542
        },
        "id": "-f0_FOALhi9W",
        "outputId": "63f0fd94-59f8-4f05-81c7-5f43466927ce"
      },
      "execution_count": 16,
      "outputs": [
        {
          "output_type": "display_data",
          "data": {
            "text/html": [
              "<html>\n",
              "<head><meta charset=\"utf-8\" /></head>\n",
              "<body>\n",
              "    <div>            <script src=\"https://cdnjs.cloudflare.com/ajax/libs/mathjax/2.7.5/MathJax.js?config=TeX-AMS-MML_SVG\"></script><script type=\"text/javascript\">if (window.MathJax && window.MathJax.Hub && window.MathJax.Hub.Config) {window.MathJax.Hub.Config({SVG: {font: \"STIX-Web\"}});}</script>                <script type=\"text/javascript\">window.PlotlyConfig = {MathJaxConfig: 'local'};</script>\n",
              "        <script src=\"https://cdn.plot.ly/plotly-2.18.2.min.js\"></script>                <div id=\"585937a4-65de-469a-9637-a54b1eeb5f97\" class=\"plotly-graph-div\" style=\"height:525px; width:100%;\"></div>            <script type=\"text/javascript\">                                    window.PLOTLYENV=window.PLOTLYENV || {};                                    if (document.getElementById(\"585937a4-65de-469a-9637-a54b1eeb5f97\")) {                    Plotly.newPlot(                        \"585937a4-65de-469a-9637-a54b1eeb5f97\",                        [{\"hovertemplate\":\"x=%{x}<br>y=%{y}<extra></extra>\",\"legendgroup\":\"\",\"marker\":{\"color\":\"#636efa\",\"symbol\":\"circle\"},\"mode\":\"markers\",\"name\":\"\",\"orientation\":\"v\",\"showlegend\":false,\"x\":[22238713,22232377,22220178,22212395,22203799,22181462,22181289,22180207,22173620,22158820,22150700,22140287,22114034,22114034,22114034,22102983,22090523,22073858,22038340,22038340,22038340,22038340,22025925,22011920,21994809,21978198,21933206,21933206,21933206,21913483,21890037,21863944,21747638,21747638,21747638,21747638,21747638,21715116,21679280,21640901,21549830,21549830,21549830,21508546,21461556,21410305,21359681,21216874,21216874,21216874,21147425,21073009,20986171,20905515,20691123,20691123,20691123,20613817,20515998,20413731,20319434,20093762,20093762,20093762,20001627,19911155,19820181,19700952,19530485,19530485,19530485,19457976,19373884,19307014,19245301,19119181,19119181,19119181,19074696,19029321,18985568,18886701,18804765,18804765,18804765,18773164,18734683,18695448,18654572,18616433,18585423,18546205,18499058,18447706,18393951,18348029,18306704,18265918,18220515,18162199,18000119,17932803,17866632,17809459,17752892,17689885,17607832,17519708,17428345,17315893,16478467,16409459,16333980,16245474,16149319,16047716,15953685,15866316,15787937,15709059,15613283,15506750,15399300,15305410,15221366,15147099,15066395,14967817,14862138,14732594,14617314,14475192,14333794,14193228,14015065,13835334,13641520,13422815,13266431,13117469,12937886,12748050,12559926,12377822,12239797,12132098,12013153,11891292,11769921,11647473,11542143,11453121,11361387,11279428,11190354,11097851,11010286,10932545,10873468,10819515,10771444,10719165,10660981,10610958,10560341,10515239,10464389,10421104,10379647,10329074,10276007,10228772,10189059,10146915,10110408,10070841,10021497,9974843,9932408,9889926,9845492,9806034,9766153,9721916,9675058,9637190,9600369,9561099,9524971,9487302,9448402,9406001,9366676,9333891,9301909,9272066,9241916,9208219,9171660,9130857,9097311,9057629,9019962,8979236,8936155,8897149,8853227,8809774,8773674,8734934,8689949,8641221,8589737,8541192,8497868,8449165,8404469,8361651,8317439,8272883,8231437,8193769,8154306,8120713,8087005,8046390,8006660,7967985,7934936,7900680,7871014,7841625,7807036,7771294,7736235,7701715,7664230,7632353,7601487,7565867,7530103,7496543,7465448,7429746,7400739,7371301,7339009,7312683,7282810,7256559,7226276,7197662,7168806,7132072,7094592,7056106,7018927,6978126,6941611,6904969,6862904,6825074,6789581,6757650,6731423,6698486,6666399,6628709,6590747,6555200,6524581,6492906,6460930,6429147,6392160,6355887,6322241,6295613,6267437,6241011,6211868,6179506,6146800,6117540,6094243,6069362,6042252,6014023,5982581,5952756,5923820,5902354,5880667,5856528,5830774,5801561,5770928,5745526,5722298,5697912,5669260,5637975,5602321,5563006,5519602,5473477,5433939,5386340,5332371,5281098,5233207,5191459,5155243,5121245,5089893,5058093,5022893,4990916,4958868,4930534,4903434,4879616,4855169,4828463,4800907,4775301,4755078,4732434,4717811,4699868,4684572,4667870,4651988,4640507,4630040,4620968,4610893,4600623,4589814,4581006,4573419,4565813,4558494,4550944,4542986,4535754,4528442,4522476,4516892,4511669,4506018,4499878,4494699,4490438,4487339,4484056,4480945,4477705,4473677,4470297,4467310,4464900,4462538,4460446,4457923,4455221,4452527,4450392,4452756,4450777,4448851,4446824,4444631,4441975,4439691,4437217,4434860,4433090,4431043,4428553,4425940,4423796,4421850,4420201,4418530,4416623,4414242,4411797,4409631,4406946,4404882,4403170,4401109,4398431,4395703,4393307,4390783,4387820,4385938,4383732,4380976,4378305,4375814,4373343,4369775,4368045,4365461,4370321,4367291,4364529,4362150,4359388,4357091,4353668,4350266,4345788,4341736,4337696,4333042,4329180,4325315,4319128,4312908,4307304,4301925,4296583,4291271,4285684,4280882,4274579,4268821,4263527,4258438,4253820,4248286,4241677,4234924,4228998,4223232,4218520,4213343,4207304,4201358,4194785,4188400,4182009,4176554,4170519,4163085,4154562,4144577,4134639,4126150,4115509,4105675,4095269,4083242,4071185,4058468,4047843,4038078,4027106,4013799,3998655,3985161,3972148,3959784,3945680,3929835,3911573,3892459,3871825,3852623,3835783,3817176,3796088,3772813,3743734,3715054,3689746,3669658,3647463,3617459,3583907,3543646,3505754,3466849,3433494,3395959,3357361,3316019,3260258,3211576,3164051,3118518,3072349,3017409,2957472,2889419,2836801,2774479,2713563,2654779,2599789,2542065,2488780,2432888,2382865,2329730,2288345,2257844,2222153,2189428,2149551,2110314,2073511,2040147,2004219,1977167,1948660,1913277,1888116,1869666,1849403,1830956,1809455,1787783,1766819,1750241,1737960,1723242,1705971,1690432,1674134,1659256,1643086,1629657,1617327,1605172,1589301,1574562,1557007,1538794,1527495,1512045,1493383,1473508,1453256,1430341,1410732,1390681,1369318,1344356,1317496,1290195,1256725,1233775,1213363,1192013,1171441,1146484,1123197,1099059,1073882,1053864,1034914,1011660,989745,965340,942275,917575,894690,873800,854010,830998,810467,789229,762542,741212,722409,705428,689257,673622,654644,634920,617688,603716,590844,575679,561815,544275,530113,515571,502978,480017,467146,460178,453264,446156,439013,434969,429277,423236,416363,409729,403551,398625,394257,390358,385936,381614,378219,374228,371125,368504,365174,361677,358138,355219,352560,350100,347152,344164,342351,340411,338676,337168,335873,334467,332752,331644,330368,328846,327798,326614,325761,324601,323313,322280,321098,320286,319197,318484,317444,316367,314927,313798,312789,311641,310825,309763,309005,308134,307184,306293,305623,304685,303942,303181,302301,301455,300692,300111,299426,298681,297914,297146,296377,295817,295372,294792,294066,293239,292552,291911,291373,290133,289603,288953,288133,287621,286979,286349,285768,285416,284900,284276,283757,313483,312654,311965,311151,310250,309360,307980,306862,306210,305289,304331,303110,301815,300469,299251,298136,296857,295889,294375,292950,291409,290143,289140,287399,286194,284868,283311,281661,279856,277985,276332,274762,272826,271222,269127,267240,265227,261184,259559,257154,254195,250908,248293,248818,246406,243723,240161,236711,233151,229705,226463,223060,219183,215260,211364,206715,201101,194990,190584,186599,182260,177454,171253,165221,161145,157149,152840,148377,143464,138078,133495,129044,124743,120067,114217,108692,103093,98476,93873,88621,84279,78991,73758,68052,63377,57512,53624,49481,43282,39282,34610,30088,25521,22271,19606,17104,14548,11658,9529,8077,6650,5683,5018,3983,3269,2626,1950,1543,1391,1061,797,590,456,373,321,271,206,160],\"xaxis\":\"x\",\"y\":[177977.0,177890.0,177721.0,177595.0,177410.0,177257.0,177257.0,177252.0,177101.0,176915.0,176708.0,176424.0,176212.0,176212.0,176212.0,175984.0,175546.0,175319.0,174912.0,174912.0,174912.0,174912.0,174696.0,174448.0,174144.0,173693.0,173352.0,173352.0,173352.0,173068.0,172386.0,171878.0,171396.0,171396.0,171396.0,171396.0,171396.0,171046.0,170395.0,170107.0,169759.0,169759.0,169759.0,169412.0,169095.0,166148.0,165780.0,165570.0,165570.0,165570.0,165379.0,165187.0,164974.0,164671.0,164454.0,164454.0,164454.0,164282.0,164123.0,163929.0,163679.0,163511.0,163511.0,163511.0,163386.0,163248.0,163095.0,162873.0,162738.0,162738.0,162738.0,162624.0,162482.0,162359.0,162147.0,162008.0,162008.0,162008.0,161898.0,161704.0,161630.0,161361.0,161224.0,161224.0,161224.0,161104.0,160979.0,160815.0,160610.0,160595.0,160521.0,160379.0,160221.0,160038.0,159839.0,159605.0,159570.0,159518.0,159351.0,159158.0,158953.0,158677.0,158363.0,158318.0,158243.0,157984.0,157730.0,157427.0,156875.0,155754.0,155704.0,155613.0,155317.0,155040.0,154702.0,154356.0,153916.0,153862.0,153787.0,153490.0,153202.0,152872.0,152513.0,152075.0,151990.0,151899.0,151612.0,151342.0,151007.0,150609.0,150230.0,150154.0,150057.0,149744.0,149515.0,149284.0,148950.0,148901.0,148859.0,148786.0,148624.0,148421.0,148089.0,148032.0,148013.0,147870.0,147867.0,147857.0,147720.0,147573.0,147433.0,147261.0,147218.0,147173.0,147048.0,146937.0,146791.0,146627.0,146477.0,146439.0,146387.0,146255.0,146135.0,145987.0,145826.0,145646.0,145605.0,145551.0,145424.0,145281.0,145140.0,144969.0,144810.0,144775.0,144724.0,144593.0,144433.0,144286.0,144137.0,143972.0,143927.0,143866.0,143716.0,143559.0,143360.0,143159.0,142945.0,142898.0,142835.0,142678.0,142533.0,142338.0,142124.0,141862.0,141805.0,141743.0,141588.0,141395.0,141181.0,140964.0,140672.0,140632.0,140558.0,140392.0,140206.0,140041.0,139834.0,139571.0,139533.0,139461.0,139326.0,139146.0,139031.0,138852.0,138629.0,138584.0,138527.0,138379.0,138237.0,138080.0,137944.0,137763.0,137735.0,137697.0,137564.0,137417.0,137295.0,137152.0,136986.0,136953.0,136910.0,136789.0,136662.0,136525.0,136375.0,136208.0,136168.0,136110.0,135983.0,135803.0,135621.0,135455.0,135252.0,135203.0,135147.0,134983.0,134805.0,134647.0,134446.0,134261.0,134200.0,134144.0,133988.0,133841.0,133674.0,133483.0,133274.0,133229.0,133161.0,133041.0,132920.0,132742.0,132535.0,132485.0,132437.0,132376.0,132243.0,132143.0,132003.0,131854.0,131680.0,131640.0,131591.0,131487.0,131373.0,131260.0,131149.0,130979.0,130953.0,130894.0,130801.0,130701.0,130607.0,130503.0,130357.0,130320.0,130281.0,130178.0,130086.0,130000.0,129881.0,129743.0,129719.0,129654.0,129583.0,129515.0,129430.0,129303.0,129172.0,129158.0,129130.0,129044.0,128980.0,128896.0,128823.0,128727.0,128708.0,128683.0,128642.0,128593.0,128530.0,128481.0,128431.0,128425.0,128399.0,128365.0,128336.0,128301.0,128268.0,128231.0,128222.0,128207.0,128189.0,128162.0,128140.0,128126.0,128103.0,128100.0,128089.0,128066.0,128048.0,128027.0,128008.0,127981.0,127976.0,127970.0,127956.0,127945.0,127926.0,127917.0,127907.0,127904.0,127896.0,127884.0,127867.0,127860.0,127854.0,127841.0,127840.0,127836.0,127823.0,127812.0,127794.0,127782.0,127782.0,127781.0,127775.0,127768.0,127758.0,127748.0,127739.0,127724.0,127721.0,127716.0,127710.0,127701.0,127694.0,127691.0,127684.0,127679.0,127675.0,127668.0,127651.0,127640.0,127629.0,127609.0,127605.0,127603.0,127598.0,127583.0,127570.0,127543.0,127539.0,127538.0,127524.0,127517.0,127502.0,127480.0,127451.0,127434.0,127428.0,127417.0,127385.0,127345.0,127327.0,127307.0,127274.0,127270.0,127260.0,127225.0,127191.0,127161.0,127123.0,127100.0,127087.0,127080.0,127040.0,126980.0,126927.0,126882.0,126862.0,126836.0,126826.0,126816.0,126764.0,126713.0,126670.0,126615.0,126592.0,126573.0,126515.0,126445.0,126382.0,126284.0,126172.0,126155.0,126122.0,126026.0,125926.0,125831.0,125690.0,125580.0,125516.0,125464.0,125343.0,125168.0,124987.0,124797.0,124566.0,124501.0,124419.0,124261.0,124025.0,123783.0,123296.0,122953.0,122849.0,122705.0,122415.0,122070.0,121747.0,121305.0,120757.0,120580.0,120365.0,119920.0,119387.0,118933.0,118195.0,117396.0,117166.0,116908.0,116287.0,115529.0,114851.0,113850.0,112798.0,112465.0,112092.0,111264.0,110250.0,109335.0,108013.0,106564.0,106158.0,105571.0,104371.0,103126.0,101887.0,100162.0,98531.0,97939.0,97329.0,95981.0,94580.0,93290.0,91470.0,89860.0,89261.0,88590.0,87295.0,86015.0,84767.0,83203.0,81960.0,81431.0,80868.0,79833.0,78508.0,77346.0,76305.0,75475.0,75068.0,74613.0,74168.0,73512.0,72548.0,71567.0,71153.0,70796.0,70479.0,70249.0,69636.0,69051.0,68307.0,67616.0,67401.0,67075.0,66541.0,66052.0,65520.0,64908.0,64402.0,64170.0,64026.0,63506.0,63082.0,62566.0,62033.0,61434.0,61245.0,61014.0,60617.0,60113.0,59699.0,59051.0,58448.0,58245.0,58030.0,57551.0,57031.0,56533.0,55838.0,55230.0,55024.0,54626.0,54286.0,53775.0,53274.0,52745.0,52147.0,51934.0,51766.0,51304.0,50928.0,50365.0,49770.0,49238.0,49044.0,48888.0,48475.0,48120.0,47742.0,47250.0,46853.0,46717.0,46555.0,46229.0,45955.0,45675.0,45365.0,44998.0,44896.0,44745.0,44571.0,44347.0,44158.0,43967.0,43726.0,43646.0,43579.0,43429.0,43293.0,43155.0,43018.0,42875.0,42825.0,42760.0,42679.0,42592.0,42515.0,42445.0,42369.0,42350.0,42317.0,42268.0,42202.0,42143.0,42072.0,42001.0,41988.0,41971.0,41937.0,41902.0,41862.0,41825.0,41788.0,41777.0,41759.0,41732.0,41705.0,41684.0,41664.0,41637.0,41628.0,41623.0,41614.0,41608.0,41594.0,41586.0,41554.0,41551.0,41549.0,41537.0,41527.0,41514.0,41504.0,41501.0,41499.0,41498.0,41486.0,41477.0,41465.0,41449.0,41433.0,41429.0,41423.0,41405.0,41403.0,41397.0,41381.0,41369.0,41366.0,41361.0,41358.0,41347.0,41329.0,41309.0,41296.0,41278.0,41273.0,41270.0,41258.0,41240.0,41226.0,41208.0,41207.0,41202.0,41189.0,41169.0,41169.0,41135.0,41114.0,41111.0,41103.0,41088.0,41056.0,41047.0,41030.0,41005.0,40995.0,40984.0,40975.0,40949.0,40925.0,40899.0,40855.0,40845.0,40836.0,40819.0,40785.0,40754.0,40697.0,40643.0,40632.0,40613.0,40581.0,40532.0,40491.0,40394.0,40341.0,40320.0,40289.0,40249.0,40172.0,40073.0,39986.0,39892.0,39878.0,39847.0,39776.0,39692.0,39625.0,39515.0,39395.0,39366.0,39339.0,39232.0,39101.0,39025.0,38861.0,38666.0,38619.0,38565.0,38422.0,38164.0,38034.0,37780.0,37531.0,37445.0,37385.0,37231.0,36957.0,36614.0,36192.0,36061.0,35957.0,35578.0,35358.0,35067.0,34794.0,34466.0,33966.0,33820.0,33753.0,33342.0,32992.0,32640.0,32193.0,31579.0,31392.0,31175.0,30900.0,30321.0,29863.0,29216.0,28490.0,28218.0,27965.0,27381.0,26683.0,26049.0,25280.0,24311.0,23991.0,23627.0,22812.0,21802.0,21120.0,20273.0,19049.0,18479.0,18047.0,16942.0,16029.0,14993.0,14113.0,13037.0,12313.0,11656.0,10813.0,9691.0,8575.0,7545.0,6440.0,5873.0,5274.0,4518.0,3782.0,3125.0,2453.0,2050.0,1676.0,1464.0,1172.0,884.0,703.0,512.0,364.0,288.0,252.0,194.0,162.0,116.0,82.0,65.0,43.0,29.0,10.0,9.0,7.0,7.0,3.0,2.0,2.0,1.0],\"yaxis\":\"y\",\"type\":\"scatter\"},{\"hovertemplate\":\"<b>OLS trendline</b><br>y = 0.00644678 * x + 59818.4<br>R<sup>2</sup>=0.695079<br><br>x=%{x}<br>y=%{y} <b>(trend)</b><extra></extra>\",\"legendgroup\":\"\",\"marker\":{\"color\":\"#636efa\",\"symbol\":\"circle\"},\"mode\":\"lines\",\"name\":\"\",\"showlegend\":false,\"x\":[160,206,271,321,373,456,590,797,1061,1391,1543,1950,2626,3269,3983,5018,5683,6650,8077,9529,11658,14548,17104,19606,22271,25521,30088,34610,39282,43282,49481,53624,57512,63377,68052,73758,78991,84279,88621,93873,98476,103093,108692,114217,120067,124743,129044,133495,138078,143464,148377,152840,157149,161145,165221,171253,177454,182260,186599,190584,194990,201101,206715,211364,215260,219183,223060,226463,229705,233151,236711,240161,243723,246406,248293,248818,250908,254195,257154,259559,261184,265227,267240,269127,271222,272826,274762,276332,277985,279856,281661,283311,283757,284276,284868,284900,285416,285768,286194,286349,286979,287399,287621,288133,288953,289140,289603,290133,290143,291373,291409,291911,292552,292950,293239,294066,294375,294792,295372,295817,295889,296377,296857,297146,297914,298136,298681,299251,299426,300111,300469,300692,301455,301815,302301,303110,303181,303942,304331,304685,305289,305623,306210,306293,306862,307184,307980,308134,309005,309360,309763,310250,310825,311151,311641,311965,312654,312789,313483,313798,314927,316367,317444,318484,319197,320286,321098,322280,323313,324601,325761,326614,327798,328846,330368,331644,332752,334467,335873,337168,338676,340411,342351,344164,347152,350100,352560,355219,358138,361677,365174,368504,371125,374228,378219,381614,385936,390358,394257,398625,403551,409729,416363,423236,429277,434969,439013,446156,453264,460178,467146,480017,502978,515571,530113,544275,561815,575679,590844,603716,617688,634920,654644,673622,689257,705428,722409,741212,762542,789229,810467,830998,854010,873800,894690,917575,942275,965340,989745,1011660,1034914,1053864,1073882,1099059,1123197,1146484,1171441,1192013,1213363,1233775,1256725,1290195,1317496,1344356,1369318,1390681,1410732,1430341,1453256,1473508,1493383,1512045,1527495,1538794,1557007,1574562,1589301,1605172,1617327,1629657,1643086,1659256,1674134,1690432,1705971,1723242,1737960,1750241,1766819,1787783,1809455,1830956,1849403,1869666,1888116,1913277,1948660,1977167,2004219,2040147,2073511,2110314,2149551,2189428,2222153,2257844,2288345,2329730,2382865,2432888,2488780,2542065,2599789,2654779,2713563,2774479,2836801,2889419,2957472,3017409,3072349,3118518,3164051,3211576,3260258,3316019,3357361,3395959,3433494,3466849,3505754,3543646,3583907,3617459,3647463,3669658,3689746,3715054,3743734,3772813,3796088,3817176,3835783,3852623,3871825,3892459,3911573,3929835,3945680,3959784,3972148,3985161,3998655,4013799,4027106,4038078,4047843,4058468,4071185,4083242,4095269,4105675,4115509,4126150,4134639,4144577,4154562,4163085,4170519,4176554,4182009,4188400,4194785,4201358,4207304,4213343,4218520,4223232,4228998,4234924,4241677,4248286,4253820,4258438,4263527,4268821,4274579,4280882,4285684,4291271,4296583,4301925,4307304,4312908,4319128,4325315,4329180,4333042,4337696,4341736,4345788,4350266,4353668,4357091,4359388,4362150,4364529,4365461,4367291,4368045,4369775,4370321,4373343,4375814,4378305,4380976,4383732,4385938,4387820,4390783,4393307,4395703,4398431,4401109,4403170,4404882,4406946,4409631,4411797,4414242,4416623,4418530,4420201,4421850,4423796,4425940,4428553,4431043,4433090,4434860,4437217,4439691,4441975,4444631,4446824,4448851,4450392,4450777,4452527,4452756,4455221,4457923,4460446,4462538,4464900,4467310,4470297,4473677,4477705,4480945,4484056,4487339,4490438,4494699,4499878,4506018,4511669,4516892,4522476,4528442,4535754,4542986,4550944,4558494,4565813,4573419,4581006,4589814,4600623,4610893,4620968,4630040,4640507,4651988,4667870,4684572,4699868,4717811,4732434,4755078,4775301,4800907,4828463,4855169,4879616,4903434,4930534,4958868,4990916,5022893,5058093,5089893,5121245,5155243,5191459,5233207,5281098,5332371,5386340,5433939,5473477,5519602,5563006,5602321,5637975,5669260,5697912,5722298,5745526,5770928,5801561,5830774,5856528,5880667,5902354,5923820,5952756,5982581,6014023,6042252,6069362,6094243,6117540,6146800,6179506,6211868,6241011,6267437,6295613,6322241,6355887,6392160,6429147,6460930,6492906,6524581,6555200,6590747,6628709,6666399,6698486,6731423,6757650,6789581,6825074,6862904,6904969,6941611,6978126,7018927,7056106,7094592,7132072,7168806,7197662,7226276,7256559,7282810,7312683,7339009,7371301,7400739,7429746,7465448,7496543,7530103,7565867,7601487,7632353,7664230,7701715,7736235,7771294,7807036,7841625,7871014,7900680,7934936,7967985,8006660,8046390,8087005,8120713,8154306,8193769,8231437,8272883,8317439,8361651,8404469,8449165,8497868,8541192,8589737,8641221,8689949,8734934,8773674,8809774,8853227,8897149,8936155,8979236,9019962,9057629,9097311,9130857,9171660,9208219,9241916,9272066,9301909,9333891,9366676,9406001,9448402,9487302,9524971,9561099,9600369,9637190,9675058,9721916,9766153,9806034,9845492,9889926,9932408,9974843,10021497,10070841,10110408,10146915,10189059,10228772,10276007,10329074,10379647,10421104,10464389,10515239,10560341,10610958,10660981,10719165,10771444,10819515,10873468,10932545,11010286,11097851,11190354,11279428,11361387,11453121,11542143,11647473,11769921,11891292,12013153,12132098,12239797,12377822,12559926,12748050,12937886,13117469,13266431,13422815,13641520,13835334,14015065,14193228,14333794,14475192,14617314,14732594,14862138,14967817,15066395,15147099,15221366,15305410,15399300,15506750,15613283,15709059,15787937,15866316,15953685,16047716,16149319,16245474,16333980,16409459,16478467,17315893,17428345,17519708,17607832,17689885,17752892,17809459,17866632,17932803,18000119,18162199,18220515,18265918,18306704,18348029,18393951,18447706,18499058,18546205,18585423,18616433,18654572,18695448,18734683,18773164,18804765,18804765,18804765,18886701,18985568,19029321,19074696,19119181,19119181,19119181,19245301,19307014,19373884,19457976,19530485,19530485,19530485,19700952,19820181,19911155,20001627,20093762,20093762,20093762,20319434,20413731,20515998,20613817,20691123,20691123,20691123,20905515,20986171,21073009,21147425,21216874,21216874,21216874,21359681,21410305,21461556,21508546,21549830,21549830,21549830,21640901,21679280,21715116,21747638,21747638,21747638,21747638,21747638,21863944,21890037,21913483,21933206,21933206,21933206,21978198,21994809,22011920,22025925,22038340,22038340,22038340,22038340,22073858,22090523,22102983,22114034,22114034,22114034,22140287,22150700,22158820,22173620,22180207,22181289,22181462,22203799,22212395,22220178,22232377,22238713],\"xaxis\":\"x\",\"y\":[59819.398279644185,59819.694831331384,59820.11387175896,59820.43621054939,59820.77144289145,59821.30652528357,59822.17039324194,59823.504875834355,59825.20682464787,59827.33426066475,59828.31417058768,59830.938008341844,59835.29602878855,59839.441305633576,59844.04430356102,59850.71671652308,59855.003822435894,59861.23785464295,59870.43740372203,59879.798122196335,59893.52330789316,59912.15448998044,59928.632448947596,59944.76228202108,59961.942939551394,59982.89496092983,60012.33738604838,60041.48970625553,60071.609042833996,60097.39614606899,60137.35970930741,60164.068701483055,60189.133765827464,60226.94410594577,60257.08278285166,60293.86808561637,60327.60406342355,60361.6946139002,60389.686514461784,60423.54498100933,60453.21949005699,60482.98425396598,60519.07975171915,60554.69818806248,60592.411826543655,60622.55695022536,60650.28453297878,60678.979132103515,60708.524705635005,60743.247040140915,60774.920049689295,60803.692010123734,60831.471167083626,60857.23248321538,60883.50954141183,60922.3964930902,60962.37294988024,60993.35615441708,61021.32871465124,61047.019116249096,61075.423610462436,61114.81985742969,61151.01205682,61180.98311755487,61206.099756105745,61231.39045760346,61256.38460741397,61278.32298549114,61299.2234326631,61321.43902210004,61344.38954397919,61366.63092051937,61389.594335950125,61406.89103544499,61419.0561013961,61422.44065869569,61435.914420135974,61457.10497221933,61476.18098183741,61491.68547765745,61502.16148834666,61528.22580294143,61541.20316264444,61553.368228595544,61566.87422391487,61577.2148523121,61589.69581027784,61599.817248297564,61610.473768709424,61622.5356862476,61634.172116582384,61644.80929666682,61647.684558677516,61651.03043532226,61654.846926601036,61655.05322342691,61658.37975974423,61660.649024828905,61663.39535132344,61664.39460157379,61668.456070333305,61671.163716172974,61672.59490040252,61675.89564961659,61681.18200577977,61682.387552856,61685.372410055454,61688.78920123409,61688.853668992175,61696.78320323694,61697.015287166054,61700.25156862204,61704.38395191545,61706.94976868733,61708.81288689606,61714.14437048989,61716.1364242148,61718.82472972704,61722.56385969612,61725.43267493101,61725.89684278924,61729.042869383906,61732.137321772105,61734.00043998084,61738.95156380195,61740.382748031494,61743.896240847265,61747.57090305825,61748.69908882478,61753.11513025377,61755.423075993305,61756.860706998654,61761.77959694073,61764.10043623188,61767.233569274926,61772.44901090421,61772.90673198663,61777.81272837708,61780.32052416669,61782.60268280298,61786.49653539147,61788.64975851159,61792.43401591132,61792.969098303445,61796.637313738625,61798.71317554904,61803.84480909281,61804.83761256735,61810.45275429677,61812.741359708874,61815.339410359804,61818.478990178664,61822.18588626869,61824.287535182346,61827.44645532863,61829.535210690665,61833.97703922289,61834.84735395707,61839.321416368344,61841.3521507481,61848.63056063617,61857.91391780077,61864.85709534679,61871.561742187885,61876.158293339526,61883.17883219525,61888.413614151956,61896.0337031579,61902.69322256833,61910.996669809996,61918.47492974814,61923.974029513,61931.60701207056,61938.36323311813,61948.175225899045,61956.401311831,61963.5443394271,61974.6005599391,61983.664726726194,61992.013301398525,62001.73503931811,62012.92019534629,62025.42694041526,62037.11494495652,62056.37791107306,62075.383006157244,62091.24207464676,62108.384051522225,62127.20219010796,62150.01732969511,62172.5617046983,62194.02946814143,62210.92646753616,62230.930812870705,62256.65989512341,62278.54669899411,62306.409664039515,62334.9173066658,62360.053285544105,62388.212802276714,62419.969619910604,62459.79780085704,62502.56571157227,62546.8744017058,62585.81937436644,62622.51442226983,62648.5851836404,62694.63450324228,62740.45818569086,62785.03119363254,62829.952327467894,62912.92877890228,63060.95319824693,63142.13744600648,63235.88645981729,63327.18569882077,63440.2621465062,63529.640246318675,63627.405601458326,63710.38849966852,63800.46285126834,63911.55369200468,64038.70989805641,64161.05680935482,64261.852149124585,64366.10296072784,64475.575660736176,64596.794386268055,64734.30411426864,64906.34922027668,65043.26584490285,65175.62459903225,65323.97780394314,65451.55949719826,65586.23264384299,65733.76710822617,65893.00247070224,66041.69735473099,66199.03091834347,66340.31201019217,66490.22533484879,66612.39173642454,66741.44329456406,66903.75376910088,67059.36604357243,67209.49211183072,67370.38429568964,67503.00736762719,67640.64603114394,67772.2376189521,67920.19112376285,68135.96471008162,68311.96813643623,68485.12853465919,68646.05295239715,68783.77542399941,68913.03972574061,69039.45455257435,69187.18242023178,69317.74252391054,69445.87219310939,69566.18192325224,69665.78460949738,69738.62672936042,69856.04185716514,69969.21500648769,70064.23403513283,70166.55081399345,70244.91137394878,70324.40011967064,70410.9738720063,70515.21823683375,70611.13336731629,70716.20291944726,70816.37936873938,70927.72163373226,71022.60528008541,71101.77813379263,71208.65278315004,71343.80299120462,71483.51751653179,71622.12964319567,71741.05331653963,71871.68433475228,71990.62734842367,72152.83467454757,72380.94094298848,72564.71918096844,72739.11736014667,72970.73712140335,73185.8273494864,73423.08803957573,73676.04018198355,73933.11826090897,74144.08899925023,74374.18087464024,74570.81398358283,74837.61380042785,75180.16323302564,75502.65029930661,75862.97349280912,76206.48994177823,76578.62362856236,76933.13183028538,77312.09909942679,77704.81089459243,78106.5868565452,78445.80330604987,78884.52574016256,79270.92614181145,79625.11200474403,79922.75319705809,80216.29423995779,80522.67726026851,80836.51920018994,81195.9978660615,81462.52047154674,81711.35312421276,81953.3328541941,82168.36506129487,82419.1768741342,82663.45810307925,82923.01174391522,83139.31396585032,83332.74302721597,83475.82921629112,83605.33204873724,83768.48705090502,83953.38058109989,84140.84637484245,84290.89508179105,84426.84469004592,84546.79984751929,84655.36355213859,84779.15454121816,84912.17731325584,85035.40098606425,85153.1320058836,85255.2811685732,85346.20649457976,85425.91443067913,85509.80632427835,85596.79911704159,85694.42908988927,85780.21633557626,85850.95035974984,85913.90312552225,85982.4001184902,86064.38376645005,86142.1125423761,86219.6479150279,86286.73306409374,86350.13065739695,86418.73079877783,86473.4574786183,86537.52553660562,86601.89659305596,86656.84246327392,86704.76779463615,86743.67408664194,86778.84124867865,86820.04259287237,86861.20525641122,86903.57991380211,86941.91244276092,86980.84452186995,87014.21948023184,87044.59668784266,87081.76879715589,87119.97239059853,87163.507467635,87206.11420895501,87241.79066628062,87271.56187696541,87304.36951905613,87338.49875018763,87375.61928529441,87416.25331321693,87447.21073065055,87483.22886709402,87517.47414019008,87551.91281656042,87586.59002363567,87622.71775526789,87662.81670079828,87702.70290272702,87727.61969122782,87752.5171394012,87782.52043401511,87808.56540828245,87834.6877438595,87863.55640593107,87885.48833723243,87907.55565082577,87922.36389485846,87940.16988964222,87955.50676929124,87961.51516434498,87973.31276407499,87978.17363303479,87989.32655518391,87992.8464947755,88012.32865126953,88028.25863429294,88044.31755283254,88061.5368910177,88079.30420514662,88093.52579258071,88105.65862465277,88124.76042137409,88141.03208351537,88156.47855835312,88174.06536275939,88191.32982837521,88204.61663331704,88215.65351350162,88228.95965877088,88246.26925181736,88260.2329682191,88275.9953350715,88291.34510827211,88303.6391097394,88314.41167211582,88325.04240542444,88337.58783114827,88351.40971848222,88368.25514367048,88384.30761543426,88397.50416551477,88408.91495869624,88424.11000927747,88440.0593326283,88454.78376857548,88471.90640512352,88486.04418447209,88499.11179903643,88509.04628055771,88511.52828924407,88522.81014690938,88524.2864585696,88540.17776093815,88557.59694917338,88573.86216453885,88587.34881953076,88602.57610399101,88618.1128336901,88637.36935303082,88659.1594552644,88685.12706822203,88706.01462184236,88726.07054138338,88747.2353063635,88767.21386459481,88794.68357631587,88828.07142822939,88867.6546316951,88904.08536179032,88937.7568718394,88973.75566795545,89012.21713243044,89059.355957144,89105.97903979287,89157.28248167888,89205.95563903492,89253.13959117915,89302.17376798048,89351.08545604144,89407.86865736489,89477.55185708163,89543.76024463748,89608.71151091061,89667.19666104756,89734.67506343772,89808.69049649795,89911.07818989248,90018.75223945017,90117.36212222077,90233.03662055713,90327.30782320845,90473.28861462172,90603.66176180201,90768.7379031608,90946.38525734664,91118.55285209505,91276.1571802915,91429.70648650425,91604.4141109213,91787.07705668635,91993.68332780509,92199.83187784141,92426.75838630932,92631.76585702748,92833.88517218333,93053.06265612913,93286.53908881871,93555.6790852823,93864.42162553902,94194.96716158092,94542.89320520322,94849.75328692378,95104.64590885004,95402.00344302852,95681.81930023138,95935.27429115228,96165.12763583736,96366.81501701403,96551.52803748625,96708.73911235837,96858.48482084397,97022.24581993776,97219.72990328711,97408.05956498806,97574.08982916654,97729.7085504139,97869.51977737818,98007.90626688876,98194.45017169068,98386.72526018656,98589.4247851652,98771.41081947033,98946.18291164548,99106.58514054291,99256.77567655931,99445.40833672325,99656.25658632415,99864.88714504684,100052.76553244116,100223.12802996312,100404.77238515038,100576.43713138571,100793.34535024682,101027.18924915753,101265.63614599567,101470.53402152508,101676.67612478559,101880.87774852765,102078.2715770157,102307.43511668924,102552.16761994091,102795.1466001726,103002.00429554787,103214.34175036059,103383.42133949659,103589.27333784572,103818.08875162559,104061.9702804705,104333.15390486547,104569.37666404957,104804.78068270598,105067.8155824787,105307.50026027212,105555.61087404756,105797.23603135941,106034.05189391795,106220.08005665516,106404.54809964666,106599.77581146295,106769.01012321838,106961.5946569531,107131.31247689418,107339.49176131026,107529.27194756815,107716.27357345249,107946.43636337639,108146.89885714938,108363.25265329095,108593.815143315,108823.44929762257,109022.43547973537,109227.93935219082,109469.59674338171,109692.13944429967,109918.15695737855,110148.57761833479,110371.56514678356,110561.02944102683,110752.27949216914,110973.1202442736,111186.17973797687,111435.50879238019,111691.63919526173,111953.47499473399,112170.78291369525,112387.34945343851,112641.7585671791,112884.595718343,113151.78878851235,113439.0313314469,113724.05618350323,114000.09423008218,114288.23932162995,114602.21664384336,114881.51675898154,115194.47549061719,115526.38129635474,115840.51978796338,116130.52799771988,116380.27609255075,116613.00469924654,116893.13644846404,117176.29173553584,117427.75467273184,117705.4882213485,117968.03961293554,118210.87031732363,118466.69127496635,118682.95481624658,118946.00260957089,119181.6902863629,119398.92729079025,119593.29758142399,119785.68871188443,119991.8694957998,120203.22704068958,120456.74649936857,120730.09624043526,120980.87581939554,121223.71941733525,121456.62853375368,121709.79341976318,121947.17015181707,122191.29665814272,122493.379678989,122778.56570044055,123035.66956646921,123290.04644633077,123576.50248261665,123850.37441252386,124123.94334396804,124424.71122254935,124742.82092805619,124997.90050648089,125233.25295093084,125504.94587061468,125760.96667830746,126065.48013363365,126407.59118547646,126733.62397845223,127000.88796315547,127279.93665403711,127607.7552039119,127898.51768643803,128224.8341375494,128547.32120383038,128922.42040748653,129259.45139999203,129569.35435989434,129917.17725510368,130298.03342955705,130799.21222770488,131363.72415139785,131960.07025403442,132534.31036242278,133062.6816609319,133654.07019297153,134227.97506901785,134907.0139649532,135696.4087691827,136478.86039586618,137264.47094269595,138031.2826912674,138725.5939990937,139615.41023009605,140789.3938919722,142002.18714421696,143226.01727664634,144383.74861670862,145344.07323473127,146352.24582280644,147762.1879260585,149011.6633326551,150170.34879553708,151318.92571395094,152225.1232022833,153136.68440808856,154052.91307957936,154796.09739481178,155631.23852018014,156312.52734087277,156948.03760654747,157468.3182014166,157947.10090040485,158488.9137264752,159094.20150715852,159786.9075678084,160473.7019350417,161091.1483349003,161599.6571171427,162104.9489582565,162668.19731389094,163274.39408996326,163929.40585245943,164549.2955803495,165119.8739200785,165606.47011134698,166051.349216357,171450.04689477308,172174.99972801836,172763.99650623294,173332.112177603,173861.08947303816,174267.28147641988,174631.9562435933,175000.53775690682,175427.12735894747,175861.0985192891,176905.9919423709,177281.94212043379,177574.64508247835,177837.58328061394,178103.9962909104,178400.0451295997,178746.59156319892,179077.64639452973,179381.59253358474,179634.42218725217,179834.33670508146,180080.21028765125,180343.7286956096,180596.66794446582,180844.74632436223,181048.47088669444,181048.47088669444,181048.47088669444,181576.69390935998,182214.06729324342,182496.1330752035,182788.65552752547,183075.44034937758,183075.44034937758,183075.44034937758,183888.50771437678,184286.35758986202,184717.45348819296,185259.57575950213,185727.02502661862,185727.02502661862,185727.02502661862,186825.98755840835,187594.6301913095,188181.11917373448,188764.37187470347,189358.34556384242,189358.34556384242,189358.34556384242,190813.20235415405,191421.11397259153,192080.40639422467,192711.02355706051,193209.3980077316,193209.3980077316,193209.3980077316,194591.5351669205,195111.5063165509,195671.33143423084,196151.07470281463,196598.79683595634,196598.79683595634,196598.79683595634,197519.44154887612,197845.80312741816,198176.20683439227,198479.14082964527,198745.2895221336,198745.2895221336,198745.2895221336,199332.40384181205,199579.824650576,199810.85130845825,200020.51335131034,200020.51335131034,200020.51335131034,200020.51335131034,200020.51335131034,200770.31205852248,200938.52777970012,201089.67888531205,201216.82864458795,201216.82864458795,201216.82864458795,201506.8819817751,201613.9693747342,201724.28015559772,201814.5672507992,201894.6039724648,201894.6039724648,201894.6039724648,201894.6039724648,202123.58055563987,202231.01607449265,202311.34290106967,202382.58622053213,202382.58622053213,202382.58622053213,202551.8334258392,202618.96370233566,202671.31152190268,202766.72380387213,202809.1887161244,202816.16412754945,202817.27941976435,202961.28105100436,203016.69753585634,203066.8727919758,203145.51701006672,203186.36378159095],\"yaxis\":\"y\",\"type\":\"scatter\"}],                        {\"template\":{\"data\":{\"histogram2dcontour\":[{\"type\":\"histogram2dcontour\",\"colorbar\":{\"outlinewidth\":0,\"ticks\":\"\"},\"colorscale\":[[0.0,\"#0d0887\"],[0.1111111111111111,\"#46039f\"],[0.2222222222222222,\"#7201a8\"],[0.3333333333333333,\"#9c179e\"],[0.4444444444444444,\"#bd3786\"],[0.5555555555555556,\"#d8576b\"],[0.6666666666666666,\"#ed7953\"],[0.7777777777777778,\"#fb9f3a\"],[0.8888888888888888,\"#fdca26\"],[1.0,\"#f0f921\"]]}],\"choropleth\":[{\"type\":\"choropleth\",\"colorbar\":{\"outlinewidth\":0,\"ticks\":\"\"}}],\"histogram2d\":[{\"type\":\"histogram2d\",\"colorbar\":{\"outlinewidth\":0,\"ticks\":\"\"},\"colorscale\":[[0.0,\"#0d0887\"],[0.1111111111111111,\"#46039f\"],[0.2222222222222222,\"#7201a8\"],[0.3333333333333333,\"#9c179e\"],[0.4444444444444444,\"#bd3786\"],[0.5555555555555556,\"#d8576b\"],[0.6666666666666666,\"#ed7953\"],[0.7777777777777778,\"#fb9f3a\"],[0.8888888888888888,\"#fdca26\"],[1.0,\"#f0f921\"]]}],\"heatmap\":[{\"type\":\"heatmap\",\"colorbar\":{\"outlinewidth\":0,\"ticks\":\"\"},\"colorscale\":[[0.0,\"#0d0887\"],[0.1111111111111111,\"#46039f\"],[0.2222222222222222,\"#7201a8\"],[0.3333333333333333,\"#9c179e\"],[0.4444444444444444,\"#bd3786\"],[0.5555555555555556,\"#d8576b\"],[0.6666666666666666,\"#ed7953\"],[0.7777777777777778,\"#fb9f3a\"],[0.8888888888888888,\"#fdca26\"],[1.0,\"#f0f921\"]]}],\"heatmapgl\":[{\"type\":\"heatmapgl\",\"colorbar\":{\"outlinewidth\":0,\"ticks\":\"\"},\"colorscale\":[[0.0,\"#0d0887\"],[0.1111111111111111,\"#46039f\"],[0.2222222222222222,\"#7201a8\"],[0.3333333333333333,\"#9c179e\"],[0.4444444444444444,\"#bd3786\"],[0.5555555555555556,\"#d8576b\"],[0.6666666666666666,\"#ed7953\"],[0.7777777777777778,\"#fb9f3a\"],[0.8888888888888888,\"#fdca26\"],[1.0,\"#f0f921\"]]}],\"contourcarpet\":[{\"type\":\"contourcarpet\",\"colorbar\":{\"outlinewidth\":0,\"ticks\":\"\"}}],\"contour\":[{\"type\":\"contour\",\"colorbar\":{\"outlinewidth\":0,\"ticks\":\"\"},\"colorscale\":[[0.0,\"#0d0887\"],[0.1111111111111111,\"#46039f\"],[0.2222222222222222,\"#7201a8\"],[0.3333333333333333,\"#9c179e\"],[0.4444444444444444,\"#bd3786\"],[0.5555555555555556,\"#d8576b\"],[0.6666666666666666,\"#ed7953\"],[0.7777777777777778,\"#fb9f3a\"],[0.8888888888888888,\"#fdca26\"],[1.0,\"#f0f921\"]]}],\"surface\":[{\"type\":\"surface\",\"colorbar\":{\"outlinewidth\":0,\"ticks\":\"\"},\"colorscale\":[[0.0,\"#0d0887\"],[0.1111111111111111,\"#46039f\"],[0.2222222222222222,\"#7201a8\"],[0.3333333333333333,\"#9c179e\"],[0.4444444444444444,\"#bd3786\"],[0.5555555555555556,\"#d8576b\"],[0.6666666666666666,\"#ed7953\"],[0.7777777777777778,\"#fb9f3a\"],[0.8888888888888888,\"#fdca26\"],[1.0,\"#f0f921\"]]}],\"mesh3d\":[{\"type\":\"mesh3d\",\"colorbar\":{\"outlinewidth\":0,\"ticks\":\"\"}}],\"scatter\":[{\"fillpattern\":{\"fillmode\":\"overlay\",\"size\":10,\"solidity\":0.2},\"type\":\"scatter\"}],\"parcoords\":[{\"type\":\"parcoords\",\"line\":{\"colorbar\":{\"outlinewidth\":0,\"ticks\":\"\"}}}],\"scatterpolargl\":[{\"type\":\"scatterpolargl\",\"marker\":{\"colorbar\":{\"outlinewidth\":0,\"ticks\":\"\"}}}],\"bar\":[{\"error_x\":{\"color\":\"#2a3f5f\"},\"error_y\":{\"color\":\"#2a3f5f\"},\"marker\":{\"line\":{\"color\":\"#E5ECF6\",\"width\":0.5},\"pattern\":{\"fillmode\":\"overlay\",\"size\":10,\"solidity\":0.2}},\"type\":\"bar\"}],\"scattergeo\":[{\"type\":\"scattergeo\",\"marker\":{\"colorbar\":{\"outlinewidth\":0,\"ticks\":\"\"}}}],\"scatterpolar\":[{\"type\":\"scatterpolar\",\"marker\":{\"colorbar\":{\"outlinewidth\":0,\"ticks\":\"\"}}}],\"histogram\":[{\"marker\":{\"pattern\":{\"fillmode\":\"overlay\",\"size\":10,\"solidity\":0.2}},\"type\":\"histogram\"}],\"scattergl\":[{\"type\":\"scattergl\",\"marker\":{\"colorbar\":{\"outlinewidth\":0,\"ticks\":\"\"}}}],\"scatter3d\":[{\"type\":\"scatter3d\",\"line\":{\"colorbar\":{\"outlinewidth\":0,\"ticks\":\"\"}},\"marker\":{\"colorbar\":{\"outlinewidth\":0,\"ticks\":\"\"}}}],\"scattermapbox\":[{\"type\":\"scattermapbox\",\"marker\":{\"colorbar\":{\"outlinewidth\":0,\"ticks\":\"\"}}}],\"scatterternary\":[{\"type\":\"scatterternary\",\"marker\":{\"colorbar\":{\"outlinewidth\":0,\"ticks\":\"\"}}}],\"scattercarpet\":[{\"type\":\"scattercarpet\",\"marker\":{\"colorbar\":{\"outlinewidth\":0,\"ticks\":\"\"}}}],\"carpet\":[{\"aaxis\":{\"endlinecolor\":\"#2a3f5f\",\"gridcolor\":\"white\",\"linecolor\":\"white\",\"minorgridcolor\":\"white\",\"startlinecolor\":\"#2a3f5f\"},\"baxis\":{\"endlinecolor\":\"#2a3f5f\",\"gridcolor\":\"white\",\"linecolor\":\"white\",\"minorgridcolor\":\"white\",\"startlinecolor\":\"#2a3f5f\"},\"type\":\"carpet\"}],\"table\":[{\"cells\":{\"fill\":{\"color\":\"#EBF0F8\"},\"line\":{\"color\":\"white\"}},\"header\":{\"fill\":{\"color\":\"#C8D4E3\"},\"line\":{\"color\":\"white\"}},\"type\":\"table\"}],\"barpolar\":[{\"marker\":{\"line\":{\"color\":\"#E5ECF6\",\"width\":0.5},\"pattern\":{\"fillmode\":\"overlay\",\"size\":10,\"solidity\":0.2}},\"type\":\"barpolar\"}],\"pie\":[{\"automargin\":true,\"type\":\"pie\"}]},\"layout\":{\"autotypenumbers\":\"strict\",\"colorway\":[\"#636efa\",\"#EF553B\",\"#00cc96\",\"#ab63fa\",\"#FFA15A\",\"#19d3f3\",\"#FF6692\",\"#B6E880\",\"#FF97FF\",\"#FECB52\"],\"font\":{\"color\":\"#2a3f5f\"},\"hovermode\":\"closest\",\"hoverlabel\":{\"align\":\"left\"},\"paper_bgcolor\":\"white\",\"plot_bgcolor\":\"#E5ECF6\",\"polar\":{\"bgcolor\":\"#E5ECF6\",\"angularaxis\":{\"gridcolor\":\"white\",\"linecolor\":\"white\",\"ticks\":\"\"},\"radialaxis\":{\"gridcolor\":\"white\",\"linecolor\":\"white\",\"ticks\":\"\"}},\"ternary\":{\"bgcolor\":\"#E5ECF6\",\"aaxis\":{\"gridcolor\":\"white\",\"linecolor\":\"white\",\"ticks\":\"\"},\"baxis\":{\"gridcolor\":\"white\",\"linecolor\":\"white\",\"ticks\":\"\"},\"caxis\":{\"gridcolor\":\"white\",\"linecolor\":\"white\",\"ticks\":\"\"}},\"coloraxis\":{\"colorbar\":{\"outlinewidth\":0,\"ticks\":\"\"}},\"colorscale\":{\"sequential\":[[0.0,\"#0d0887\"],[0.1111111111111111,\"#46039f\"],[0.2222222222222222,\"#7201a8\"],[0.3333333333333333,\"#9c179e\"],[0.4444444444444444,\"#bd3786\"],[0.5555555555555556,\"#d8576b\"],[0.6666666666666666,\"#ed7953\"],[0.7777777777777778,\"#fb9f3a\"],[0.8888888888888888,\"#fdca26\"],[1.0,\"#f0f921\"]],\"sequentialminus\":[[0.0,\"#0d0887\"],[0.1111111111111111,\"#46039f\"],[0.2222222222222222,\"#7201a8\"],[0.3333333333333333,\"#9c179e\"],[0.4444444444444444,\"#bd3786\"],[0.5555555555555556,\"#d8576b\"],[0.6666666666666666,\"#ed7953\"],[0.7777777777777778,\"#fb9f3a\"],[0.8888888888888888,\"#fdca26\"],[1.0,\"#f0f921\"]],\"diverging\":[[0,\"#8e0152\"],[0.1,\"#c51b7d\"],[0.2,\"#de77ae\"],[0.3,\"#f1b6da\"],[0.4,\"#fde0ef\"],[0.5,\"#f7f7f7\"],[0.6,\"#e6f5d0\"],[0.7,\"#b8e186\"],[0.8,\"#7fbc41\"],[0.9,\"#4d9221\"],[1,\"#276419\"]]},\"xaxis\":{\"gridcolor\":\"white\",\"linecolor\":\"white\",\"ticks\":\"\",\"title\":{\"standoff\":15},\"zerolinecolor\":\"white\",\"automargin\":true,\"zerolinewidth\":2},\"yaxis\":{\"gridcolor\":\"white\",\"linecolor\":\"white\",\"ticks\":\"\",\"title\":{\"standoff\":15},\"zerolinecolor\":\"white\",\"automargin\":true,\"zerolinewidth\":2},\"scene\":{\"xaxis\":{\"backgroundcolor\":\"#E5ECF6\",\"gridcolor\":\"white\",\"linecolor\":\"white\",\"showbackground\":true,\"ticks\":\"\",\"zerolinecolor\":\"white\",\"gridwidth\":2},\"yaxis\":{\"backgroundcolor\":\"#E5ECF6\",\"gridcolor\":\"white\",\"linecolor\":\"white\",\"showbackground\":true,\"ticks\":\"\",\"zerolinecolor\":\"white\",\"gridwidth\":2},\"zaxis\":{\"backgroundcolor\":\"#E5ECF6\",\"gridcolor\":\"white\",\"linecolor\":\"white\",\"showbackground\":true,\"ticks\":\"\",\"zerolinecolor\":\"white\",\"gridwidth\":2}},\"shapedefaults\":{\"line\":{\"color\":\"#2a3f5f\"}},\"annotationdefaults\":{\"arrowcolor\":\"#2a3f5f\",\"arrowhead\":0,\"arrowwidth\":1},\"geo\":{\"bgcolor\":\"white\",\"landcolor\":\"#E5ECF6\",\"subunitcolor\":\"white\",\"showland\":true,\"showlakes\":true,\"lakecolor\":\"white\"},\"title\":{\"x\":0.05},\"mapbox\":{\"style\":\"light\"}}},\"xaxis\":{\"anchor\":\"y\",\"domain\":[0.0,1.0],\"title\":{\"text\":\"x\"}},\"yaxis\":{\"anchor\":\"x\",\"domain\":[0.0,1.0],\"title\":{\"text\":\"y\"}},\"legend\":{\"tracegroupgap\":0},\"title\":{\"text\":\"The number of confirmed cases and deaths\"}},                        {\"responsive\": true}                    ).then(function(){\n",
              "                            \n",
              "var gd = document.getElementById('585937a4-65de-469a-9637-a54b1eeb5f97');\n",
              "var x = new MutationObserver(function (mutations, observer) {{\n",
              "        var display = window.getComputedStyle(gd).display;\n",
              "        if (!display || display === 'none') {{\n",
              "            console.log([gd, 'removed!']);\n",
              "            Plotly.purge(gd);\n",
              "            observer.disconnect();\n",
              "        }}\n",
              "}});\n",
              "\n",
              "// Listen for the removal of the full notebook cells\n",
              "var notebookContainer = gd.closest('#notebook-container');\n",
              "if (notebookContainer) {{\n",
              "    x.observe(notebookContainer, {childList: true});\n",
              "}}\n",
              "\n",
              "// Listen for the clearing of the current output cell\n",
              "var outputEl = gd.closest('.output');\n",
              "if (outputEl) {{\n",
              "    x.observe(outputEl, {childList: true});\n",
              "}}\n",
              "\n",
              "                        })                };                            </script>        </div>\n",
              "</body>\n",
              "</html>"
            ]
          },
          "metadata": {}
        }
      ]
    },
    {
      "cell_type": "code",
      "source": [
        "fit_results = px.get_trendline_results(fig).px_fit_results.iloc[0]\n",
        "print(fit_results.params)"
      ],
      "metadata": {
        "colab": {
          "base_uri": "https://localhost:8080/"
        },
        "id": "_tf0oLmXtWsH",
        "outputId": "3125afe4-699f-444a-87c6-65393985e7a7"
      },
      "execution_count": 55,
      "outputs": [
        {
          "output_type": "stream",
          "name": "stdout",
          "text": [
            "[5.98183668e+04 6.44677581e-03]\n"
          ]
        }
      ]
    },
    {
      "cell_type": "markdown",
      "source": [
        "#### Supervised Learning Regression"
      ],
      "metadata": {
        "id": "6sxpvTgM-_yl"
      }
    },
    {
      "cell_type": "markdown",
      "source": [
        "In this case, based on the confirmed cases we'll try to predict the number of deaths in the covid 19 pandemic."
      ],
      "metadata": {
        "id": "nLt4tt1h_DXi"
      }
    },
    {
      "cell_type": "markdown",
      "source": [
        "##### Linear regression"
      ],
      "metadata": {
        "id": "1aH9baz5_QrT"
      }
    },
    {
      "cell_type": "code",
      "source": [
        "#Features extraction\n",
        "x=df[['confirmed']]\n",
        "y=df['death']"
      ],
      "metadata": {
        "id": "8b3_fPPb_CnF"
      },
      "execution_count": 18,
      "outputs": []
    },
    {
      "cell_type": "code",
      "source": [
        "x_train,x_test,y_train,y_test = train_test_split(x,y,test_size=0.3,random_state=0)"
      ],
      "metadata": {
        "id": "vCC0mvTmAE4R"
      },
      "execution_count": 19,
      "outputs": []
    },
    {
      "cell_type": "code",
      "source": [
        "x_train"
      ],
      "metadata": {
        "id": "51isCMUIua98"
      },
      "execution_count": null,
      "outputs": []
    },
    {
      "cell_type": "code",
      "source": [
        "model=LinearRegression()   #build linear regression model"
      ],
      "metadata": {
        "id": "gjFsymhbTcu1"
      },
      "execution_count": 20,
      "outputs": []
    },
    {
      "cell_type": "code",
      "source": [
        "model.fit(x_train,y_train)  #fitting the training data"
      ],
      "metadata": {
        "id": "5rknbboCT2FL"
      },
      "execution_count": null,
      "outputs": []
    },
    {
      "cell_type": "code",
      "source": [
        "y_pred=model.predict(x_test) #testing our model’s performance\n",
        "print(\"MSE\", mean_squared_error(y_test,y_pred))\n",
        "print(\"R squared\", round(metrics.r2_score(y_test,y_pred),2))"
      ],
      "metadata": {
        "colab": {
          "base_uri": "https://localhost:8080/"
        },
        "id": "Mvp-aqnmT6hz",
        "outputId": "fe09ff46-bb1d-4657-90c9-c370702682b9"
      },
      "execution_count": 22,
      "outputs": [
        {
          "output_type": "stream",
          "name": "stdout",
          "text": [
            "MSE 891657613.7268001\n",
            "R squared 0.68\n"
          ]
        }
      ]
    },
    {
      "cell_type": "code",
      "source": [
        "plt.scatter(x,y,color=\"r\")\n",
        "plt.title(\"Linear Regression\")\n",
        "plt.ylabel(\"Death\")\n",
        "plt.xlabel(\"Confirmed\")\n",
        "plt.plot(x,model.predict(x),color=\"k\")\n",
        "plt.show()"
      ],
      "metadata": {
        "colab": {
          "base_uri": "https://localhost:8080/",
          "height": 472
        },
        "id": "prKJ8bMWUhht",
        "outputId": "2cb49580-9b4a-41f6-ec0b-dcaf057e581b"
      },
      "execution_count": 23,
      "outputs": [
        {
          "output_type": "display_data",
          "data": {
            "text/plain": [
              "<Figure size 640x480 with 1 Axes>"
            ],
            "image/png": "[encoded data removed]"
          },
          "metadata": {}
        }
      ]
    },
    {
      "cell_type": "code",
      "source": [
        "y = lambda x : 5.98183668e+04*x + 6.44677581e-03"
      ],
      "metadata": {
        "id": "vFQjc7JRu679"
      },
      "execution_count": null,
      "outputs": []
    },
    {
      "cell_type": "code",
      "source": [
        "y(1)"
      ],
      "metadata": {
        "colab": {
          "base_uri": "https://localhost:8080/"
        },
        "id": "eVJgK0VzvHHA",
        "outputId": "ea644462-e81d-4de8-f4f9-57263e82bfb7"
      },
      "execution_count": 61,
      "outputs": [
        {
          "output_type": "execute_result",
          "data": {
            "text/plain": [
              "28749.161594504763"
            ]
          },
          "metadata": {},
          "execution_count": 61
        }
      ]
    },
    {
      "cell_type": "markdown",
      "source": [
        "##### Polynomial regression"
      ],
      "metadata": {
        "id": "FhMl_pF-Ydo0"
      }
    },
    {
      "cell_type": "code",
      "source": [
        "lg = LinearRegression()\n",
        "poly = PolynomialFeatures(degree = 3)"
      ],
      "metadata": {
        "id": "yPsyKfD0YhRB"
      },
      "execution_count": 24,
      "outputs": []
    },
    {
      "cell_type": "code",
      "source": [
        "x_train_fit = poly.fit_transform(x_train) #transforming our input data"
      ],
      "metadata": {
        "id": "JhQ6BiCrZJNJ"
      },
      "execution_count": 26,
      "outputs": []
    },
    {
      "cell_type": "code",
      "source": [
        "x_train_fit"
      ],
      "metadata": {
        "colab": {
          "base_uri": "https://localhost:8080/"
        },
        "id": "RZXTbhNUuAu1",
        "outputId": "ae4652e9-935e-4952-bbb3-01b87f66fca5"
      },
      "execution_count": 56,
      "outputs": [
        {
          "output_type": "execute_result",
          "data": {
            "text/plain": [
              "array([[1.00000000e+00, 2.20383400e+07, 4.85688430e+14, 1.07037668e+22],\n",
              "       [1.00000000e+00, 3.20286000e+05, 1.02583122e+11, 3.28559377e+16],\n",
              "       [1.00000000e+00, 4.10567500e+06, 1.68565672e+13, 6.92075866e+19],\n",
              "       ...,\n",
              "       [1.00000000e+00, 3.32752000e+05, 1.10723894e+11, 3.68435970e+16],\n",
              "       [1.00000000e+00, 1.17144100e+06, 1.37227402e+12, 1.60753805e+18],\n",
              "       [1.00000000e+00, 2.85416000e+05, 8.14622931e+10, 2.32506418e+16]])"
            ]
          },
          "metadata": {},
          "execution_count": 56
        }
      ]
    },
    {
      "cell_type": "code",
      "source": [
        "lg.fit(x_train_fit, y_train)"
      ],
      "metadata": {
        "id": "GYmw7XoRZM9C"
      },
      "execution_count": null,
      "outputs": []
    },
    {
      "cell_type": "code",
      "source": [
        "x_test_ = poly.fit_transform(x_test)"
      ],
      "metadata": {
        "id": "Xi9xgSFQZQHx"
      },
      "execution_count": 28,
      "outputs": []
    },
    {
      "cell_type": "code",
      "source": [
        "x_test_"
      ],
      "metadata": {
        "id": "6lEDE2DBvlX1"
      },
      "execution_count": null,
      "outputs": []
    },
    {
      "cell_type": "code",
      "source": [
        "predicted = lg.predict(x_test_)\n",
        "print(\"MSE: \", metrics.mean_squared_error(y_test, predicted))\n",
        "print(\"R squared: \", metrics.r2_score(y_test,predicted))"
      ],
      "metadata": {
        "colab": {
          "base_uri": "https://localhost:8080/"
        },
        "id": "6snjsuPbZSzp",
        "outputId": "79b4326b-e920-4d1b-e577-a486e0ccfb48"
      },
      "execution_count": 29,
      "outputs": [
        {
          "output_type": "stream",
          "name": "stdout",
          "text": [
            "MSE:  204464205.2807133\n",
            "R squared:  0.9263784066169471\n"
          ]
        }
      ]
    },
    {
      "cell_type": "code",
      "source": [
        "lg.coef_"
      ],
      "metadata": {
        "colab": {
          "base_uri": "https://localhost:8080/"
        },
        "id": "cvTlsACCBdO1",
        "outputId": "5888e6bd-d2d1-4bee-df6d-49c77c69a54b"
      },
      "execution_count": 30,
      "outputs": [
        {
          "output_type": "execute_result",
          "data": {
            "text/plain": [
              "array([ 0.00000000e+00,  2.99910488e-02, -2.26887885e-09,  5.20417043e-17])"
            ]
          },
          "metadata": {},
          "execution_count": 30
        }
      ]
    },
    {
      "cell_type": "code",
      "source": [
        "lg.intercept_"
      ],
      "metadata": {
        "colab": {
          "base_uri": "https://localhost:8080/"
        },
        "id": "d6RVlLSsBlzk",
        "outputId": "8e6fda70-5160-4a3f-ee31-eadd99ecb819"
      },
      "execution_count": 31,
      "outputs": [
        {
          "output_type": "execute_result",
          "data": {
            "text/plain": [
              "28749.131603458256"
            ]
          },
          "metadata": {},
          "execution_count": 31
        }
      ]
    },
    {
      "cell_type": "code",
      "source": [
        "y = lambda x : lg.coef_[3]*x**3 + lg.coef_[2]*x**2 +lg.coef_[1]*x + lg.coef_[0] * lg.intercept_"
      ],
      "metadata": {
        "id": "EJwuA0uxDR2y"
      },
      "execution_count": 78,
      "outputs": []
    },
    {
      "cell_type": "code",
      "source": [
        "print(round(y(10000000)))"
      ],
      "metadata": {
        "colab": {
          "base_uri": "https://localhost:8080/"
        },
        "id": "rSsW9iS_D7k7",
        "outputId": "4f966441-9fb5-4953-b0d2-3e9192fc2bc1"
      },
      "execution_count": 79,
      "outputs": [
        {
          "output_type": "stream",
          "name": "stdout",
          "text": [
            "125064\n"
          ]
        }
      ]
    },
    {
      "cell_type": "code",
      "source": [
        "#dump(lg.coef_, \"y.joblib\")"
      ],
      "metadata": {
        "colab": {
          "base_uri": "https://localhost:8080/"
        },
        "id": "K0rpEPvBEGWR",
        "outputId": "b1b819d2-57a3-455f-f9dd-b5370f9c0892"
      },
      "execution_count": 35,
      "outputs": [
        {
          "output_type": "execute_result",
          "data": {
            "text/plain": [
              "['y.joblib']"
            ]
          },
          "metadata": {},
          "execution_count": 35
        }
      ]
    },
    {
      "cell_type": "code",
      "source": [
        "#dump(lg.intercept_, \"y2.joblib\")"
      ],
      "metadata": {
        "colab": {
          "base_uri": "https://localhost:8080/"
        },
        "id": "VjBBO4ImEipj",
        "outputId": "4233ca6f-3a55-45b0-a552-b29071b8522a"
      },
      "execution_count": 36,
      "outputs": [
        {
          "output_type": "execute_result",
          "data": {
            "text/plain": [
              "['y2.joblib']"
            ]
          },
          "metadata": {},
          "execution_count": 36
        }
      ]
    },
    {
      "cell_type": "markdown",
      "source": [
        "According to the results, polynomial regression is better than linear regression with a R squared value of 0.91 (the fit of the regression is almost perfect)."
      ],
      "metadata": {
        "id": "BWFpozAeahVA"
      }
    },
    {
      "cell_type": "markdown",
      "source": [
        "##### Cross Validation"
      ],
      "metadata": {
        "id": "o0eI_ZA2cKqw"
      }
    },
    {
      "cell_type": "code",
      "source": [
        "from sklearn.model_selection import cross_val_score"
      ],
      "metadata": {
        "id": "j0Xw5Bu5ZxIb"
      },
      "execution_count": 38,
      "outputs": []
    },
    {
      "cell_type": "code",
      "source": [
        "scores= cross_val_score(lg, x_train_fit, y_train, cv=5)"
      ],
      "metadata": {
        "id": "cNm2lfyOcU2Y"
      },
      "execution_count": 39,
      "outputs": []
    },
    {
      "cell_type": "code",
      "source": [
        "print(\"Accuracy on each fold/subset :\", scores)\n",
        "print(\"The average accuracy is :\", sum(scores)/5)"
      ],
      "metadata": {
        "colab": {
          "base_uri": "https://localhost:8080/"
        },
        "id": "OmntdaXac2cY",
        "outputId": "6977e1bb-3e2e-48a0-eec5-7a990939e5fa"
      },
      "execution_count": 40,
      "outputs": [
        {
          "output_type": "stream",
          "name": "stdout",
          "text": [
            "Accuracy on each fold/subset : [0.93025013 0.85402733 0.96135513 0.88864512 0.9582122 ]\n",
            "The average accuracy is : 0.9184979837746617\n"
          ]
        }
      ]
    },
    {
      "cell_type": "markdown",
      "source": [
        "##### Grid Search"
      ],
      "metadata": {
        "id": "8uKM1CEGdoSf"
      }
    },
    {
      "cell_type": "code",
      "source": [
        "from sklearn.model_selection import GridSearchCV\n",
        "import numpy as np"
      ],
      "metadata": {
        "id": "ir_sC_I7dBIH"
      },
      "execution_count": 41,
      "outputs": []
    },
    {
      "cell_type": "code",
      "source": [
        "from sklearn.metrics import get_scorer_names\n",
        "\n",
        "scoring_options = get_scorer_names()\n",
        "print(scoring_options)"
      ],
      "metadata": {
        "colab": {
          "base_uri": "https://localhost:8080/"
        },
        "id": "MAwbXRwknCl7",
        "outputId": "223472a4-4b91-4398-84b0-ef754991870e"
      },
      "execution_count": 42,
      "outputs": [
        {
          "output_type": "stream",
          "name": "stdout",
          "text": [
            "['accuracy', 'adjusted_mutual_info_score', 'adjusted_rand_score', 'average_precision', 'balanced_accuracy', 'completeness_score', 'explained_variance', 'f1', 'f1_macro', 'f1_micro', 'f1_samples', 'f1_weighted', 'fowlkes_mallows_score', 'homogeneity_score', 'jaccard', 'jaccard_macro', 'jaccard_micro', 'jaccard_samples', 'jaccard_weighted', 'matthews_corrcoef', 'max_error', 'mutual_info_score', 'neg_brier_score', 'neg_log_loss', 'neg_mean_absolute_error', 'neg_mean_absolute_percentage_error', 'neg_mean_gamma_deviance', 'neg_mean_poisson_deviance', 'neg_mean_squared_error', 'neg_mean_squared_log_error', 'neg_median_absolute_error', 'neg_negative_likelihood_ratio', 'neg_root_mean_squared_error', 'normalized_mutual_info_score', 'positive_likelihood_ratio', 'precision', 'precision_macro', 'precision_micro', 'precision_samples', 'precision_weighted', 'r2', 'rand_score', 'recall', 'recall_macro', 'recall_micro', 'recall_samples', 'recall_weighted', 'roc_auc', 'roc_auc_ovo', 'roc_auc_ovo_weighted', 'roc_auc_ovr', 'roc_auc_ovr_weighted', 'top_k_accuracy', 'v_measure_score']\n"
          ]
        }
      ]
    },
    {
      "cell_type": "code",
      "source": [
        "from sklearn.pipeline import make_pipeline\n",
        "\n",
        "def PolynomialRegression(degree=2, **kwargs):\n",
        "    return make_pipeline(PolynomialFeatures(degree), LinearRegression(**kwargs))\n"
      ],
      "metadata": {
        "id": "FYbYfB_0rOpq"
      },
      "execution_count": 43,
      "outputs": []
    },
    {
      "cell_type": "code",
      "source": [
        "param_grid = {'polynomialfeatures__degree': np.arange(10), 'linearregression__fit_intercept': [True, False]}\n",
        "s = GridSearchCV(PolynomialRegression() , param_grid, scoring='r2', cv=10, verbose=3 )\n"
      ],
      "metadata": {
        "id": "SVbyf9Wvjfb0"
      },
      "execution_count": 44,
      "outputs": []
    },
    {
      "cell_type": "code",
      "source": [
        "s.fit(x_train,y_train)"
      ],
      "metadata": {
        "id": "UfTVVsTNrv4S"
      },
      "execution_count": null,
      "outputs": []
    },
    {
      "cell_type": "code",
      "source": [
        "print(\"Best cross-validation score: {:.2f}\".format(s.best_score_))"
      ],
      "metadata": {
        "colab": {
          "base_uri": "https://localhost:8080/"
        },
        "id": "0lBlA7n6sP5-",
        "outputId": "03bb49ec-8764-4203-f2e5-fbaee889e92c"
      },
      "execution_count": 46,
      "outputs": [
        {
          "output_type": "stream",
          "name": "stdout",
          "text": [
            "Best cross-validation score: 0.94\n"
          ]
        }
      ]
    },
    {
      "cell_type": "code",
      "source": [
        "print(s.best_params_) #best_params is used to extract the best polynomial degree"
      ],
      "metadata": {
        "colab": {
          "base_uri": "https://localhost:8080/"
        },
        "id": "ObC6QHTau00q",
        "outputId": "e8488f08-7a30-415a-d615-736e3f6612e6"
      },
      "execution_count": 47,
      "outputs": [
        {
          "output_type": "stream",
          "name": "stdout",
          "text": [
            "{'linearregression__fit_intercept': True, 'polynomialfeatures__degree': 3}\n"
          ]
        }
      ]
    },
    {
      "cell_type": "markdown",
      "source": [
        "#### Save the model"
      ],
      "metadata": {
        "id": "ZCHfYyZXyGAW"
      }
    },
    {
      "cell_type": "code",
      "source": [
        "from joblib import dump, load"
      ],
      "metadata": {
        "id": "8bqS58d3yIdU"
      },
      "execution_count": 48,
      "outputs": []
    },
    {
      "cell_type": "code",
      "source": [
        "dump(lg, 'covid19.joblib')"
      ],
      "metadata": {
        "colab": {
          "base_uri": "https://localhost:8080/"
        },
        "id": "1aMjs5oTyNFh",
        "outputId": "06eb2bd3-526b-4de4-f051-1056390495b8"
      },
      "execution_count": 49,
      "outputs": [
        {
          "output_type": "execute_result",
          "data": {
            "text/plain": [
              "['covid19.joblib']"
            ]
          },
          "metadata": {},
          "execution_count": 49
        }
      ]
    },
    {
      "cell_type": "code",
      "source": [
        "df.describe()"
      ],
      "metadata": {
        "colab": {
          "base_uri": "https://localhost:8080/",
          "height": 300
        },
        "id": "Zztsq2bSrl1r",
        "outputId": "775ba053-d972-4fa7-bb5e-ff0614b22807"
      },
      "execution_count": 50,
      "outputs": [
        {
          "output_type": "execute_result",
          "data": {
            "text/plain": [
              "            latestBy     confirmed     deathNew          death\n",
              "count     806.000000  8.060000e+02   806.000000     806.000000\n",
              "mean    26698.198511  6.331293e+06   216.017370  100634.790323\n",
              "std     34593.025784  6.741217e+06   292.555338   52127.122593\n",
              "min         0.000000  1.600000e+02     0.000000       1.000000\n",
              "25%      2679.500000  4.113875e+05    26.000000   41872.000000\n",
              "50%     15594.500000  4.374578e+06   120.000000  127111.500000\n",
              "75%     37996.750000  9.048212e+06   271.500000  140613.500000\n",
              "max    226524.000000  2.223871e+07  1820.000000  177977.000000"
            ],
            "text/html": [
              "\n",
              "\n",
              "  <div id=\"df-7beb8e38-a3a1-43b3-ad07-cbc8e2bee591\">\n",
              "    <div class=\"colab-df-container\">\n",
              "      <div>\n",
              "<style scoped>\n",
              "    .dataframe tbody tr th:only-of-type {\n",
              "        vertical-align: middle;\n",
              "    }\n",
              "\n",
              "    .dataframe tbody tr th {\n",
              "        vertical-align: top;\n",
              "    }\n",
              "\n",
              "    .dataframe thead th {\n",
              "        text-align: right;\n",
              "    }\n",
              "</style>\n",
              "<table border=\"1\" class=\"dataframe\">\n",
              "  <thead>\n",
              "    <tr style=\"text-align: right;\">\n",
              "      <th></th>\n",
              "      <th>latestBy</th>\n",
              "      <th>confirmed</th>\n",
              "      <th>deathNew</th>\n",
              "      <th>death</th>\n",
              "    </tr>\n",
              "  </thead>\n",
              "  <tbody>\n",
              "    <tr>\n",
              "      <th>count</th>\n",
              "      <td>806.000000</td>\n",
              "      <td>8.060000e+02</td>\n",
              "      <td>806.000000</td>\n",
              "      <td>806.000000</td>\n",
              "    </tr>\n",
              "    <tr>\n",
              "      <th>mean</th>\n",
              "      <td>26698.198511</td>\n",
              "      <td>6.331293e+06</td>\n",
              "      <td>216.017370</td>\n",
              "      <td>100634.790323</td>\n",
              "    </tr>\n",
              "    <tr>\n",
              "      <th>std</th>\n",
              "      <td>34593.025784</td>\n",
              "      <td>6.741217e+06</td>\n",
              "      <td>292.555338</td>\n",
              "      <td>52127.122593</td>\n",
              "    </tr>\n",
              "    <tr>\n",
              "      <th>min</th>\n",
              "      <td>0.000000</td>\n",
              "      <td>1.600000e+02</td>\n",
              "      <td>0.000000</td>\n",
              "      <td>1.000000</td>\n",
              "    </tr>\n",
              "    <tr>\n",
              "      <th>25%</th>\n",
              "      <td>2679.500000</td>\n",
              "      <td>4.113875e+05</td>\n",
              "      <td>26.000000</td>\n",
              "      <td>41872.000000</td>\n",
              "    </tr>\n",
              "    <tr>\n",
              "      <th>50%</th>\n",
              "      <td>15594.500000</td>\n",
              "      <td>4.374578e+06</td>\n",
              "      <td>120.000000</td>\n",
              "      <td>127111.500000</td>\n",
              "    </tr>\n",
              "    <tr>\n",
              "      <th>75%</th>\n",
              "      <td>37996.750000</td>\n",
              "      <td>9.048212e+06</td>\n",
              "      <td>271.500000</td>\n",
              "      <td>140613.500000</td>\n",
              "    </tr>\n",
              "    <tr>\n",
              "      <th>max</th>\n",
              "      <td>226524.000000</td>\n",
              "      <td>2.223871e+07</td>\n",
              "      <td>1820.000000</td>\n",
              "      <td>177977.000000</td>\n",
              "    </tr>\n",
              "  </tbody>\n",
              "</table>\n",
              "</div>\n",
              "      <button class=\"colab-df-convert\" onclick=\"convertToInteractive('df-7beb8e38-a3a1-43b3-ad07-cbc8e2bee591')\"\n",
              "              title=\"Convert this dataframe to an interactive table.\"\n",
              "              style=\"display:none;\">\n",
              "\n",
              "  <svg xmlns=\"http://www.w3.org/2000/svg\" height=\"24px\"viewBox=\"0 0 24 24\"\n",
              "       width=\"24px\">\n",
              "    <path d=\"M0 0h24v24H0V0z\" fill=\"none\"/>\n",
              "    <path d=\"M18.56 5.44l.94 2.06.94-2.06 2.06-.94-2.06-.94-.94-2.06-.94 2.06-2.06.94zm-11 1L8.5 8.5l.94-2.06 2.06-.94-2.06-.94L8.5 2.5l-.94 2.06-2.06.94zm10 10l.94 2.06.94-2.06 2.06-.94-2.06-.94-.94-2.06-.94 2.06-2.06.94z\"/><path d=\"M17.41 7.96l-1.37-1.37c-.4-.4-.92-.59-1.43-.59-.52 0-1.04.2-1.43.59L10.3 9.45l-7.72 7.72c-.78.78-.78 2.05 0 2.83L4 21.41c.39.39.9.59 1.41.59.51 0 1.02-.2 1.41-.59l7.78-7.78 2.81-2.81c.8-.78.8-2.07 0-2.86zM5.41 20L4 18.59l7.72-7.72 1.47 1.35L5.41 20z\"/>\n",
              "  </svg>\n",
              "      </button>\n",
              "\n",
              "\n",
              "\n",
              "    <div id=\"df-cbc59d89-a486-448b-bdcc-13eeb481f08a\">\n",
              "      <button class=\"colab-df-quickchart\" onclick=\"quickchart('df-cbc59d89-a486-448b-bdcc-13eeb481f08a')\"\n",
              "              title=\"Suggest charts.\"\n",
              "              style=\"display:none;\">\n",
              "\n",
              "<svg xmlns=\"http://www.w3.org/2000/svg\" height=\"24px\"viewBox=\"0 0 24 24\"\n",
              "     width=\"24px\">\n",
              "    <g>\n",
              "        <path d=\"M19 3H5c-1.1 0-2 .9-2 2v14c0 1.1.9 2 2 2h14c1.1 0 2-.9 2-2V5c0-1.1-.9-2-2-2zM9 17H7v-7h2v7zm4 0h-2V7h2v10zm4 0h-2v-4h2v4z\"/>\n",
              "    </g>\n",
              "</svg>\n",
              "      </button>\n",
              "    </div>\n",
              "\n",
              "<style>\n",
              "  .colab-df-quickchart {\n",
              "    background-color: #E8F0FE;\n",
              "    border: none;\n",
              "    border-radius: 50%;\n",
              "    cursor: pointer;\n",
              "    display: none;\n",
              "    fill: #1967D2;\n",
              "    height: 32px;\n",
              "    padding: 0 0 0 0;\n",
              "    width: 32px;\n",
              "  }\n",
              "\n",
              "  .colab-df-quickchart:hover {\n",
              "    background-color: #E2EBFA;\n",
              "    box-shadow: 0px 1px 2px rgba(60, 64, 67, 0.3), 0px 1px 3px 1px rgba(60, 64, 67, 0.15);\n",
              "    fill: #174EA6;\n",
              "  }\n",
              "\n",
              "  [theme=dark] .colab-df-quickchart {\n",
              "    background-color: #3B4455;\n",
              "    fill: #D2E3FC;\n",
              "  }\n",
              "\n",
              "  [theme=dark] .colab-df-quickchart:hover {\n",
              "    background-color: #434B5C;\n",
              "    box-shadow: 0px 1px 3px 1px rgba(0, 0, 0, 0.15);\n",
              "    filter: drop-shadow(0px 1px 2px rgba(0, 0, 0, 0.3));\n",
              "    fill: #FFFFFF;\n",
              "  }\n",
              "</style>\n",
              "\n",
              "    <script>\n",
              "      async function quickchart(key) {\n",
              "        const containerElement = document.querySelector('#' + key);\n",
              "        const charts = await google.colab.kernel.invokeFunction(\n",
              "            'suggestCharts', [key], {});\n",
              "      }\n",
              "    </script>\n",
              "\n",
              "      <script>\n",
              "\n",
              "function displayQuickchartButton(domScope) {\n",
              "  let quickchartButtonEl =\n",
              "    domScope.querySelector('#df-cbc59d89-a486-448b-bdcc-13eeb481f08a button.colab-df-quickchart');\n",
              "  quickchartButtonEl.style.display =\n",
              "    google.colab.kernel.accessAllowed ? 'block' : 'none';\n",
              "}\n",
              "\n",
              "        displayQuickchartButton(document);\n",
              "      </script>\n",
              "      <style>\n",
              "    .colab-df-container {\n",
              "      display:flex;\n",
              "      flex-wrap:wrap;\n",
              "      gap: 12px;\n",
              "    }\n",
              "\n",
              "    .colab-df-convert {\n",
              "      background-color: #E8F0FE;\n",
              "      border: none;\n",
              "      border-radius: 50%;\n",
              "      cursor: pointer;\n",
              "      display: none;\n",
              "      fill: #1967D2;\n",
              "      height: 32px;\n",
              "      padding: 0 0 0 0;\n",
              "      width: 32px;\n",
              "    }\n",
              "\n",
              "    .colab-df-convert:hover {\n",
              "      background-color: #E2EBFA;\n",
              "      box-shadow: 0px 1px 2px rgba(60, 64, 67, 0.3), 0px 1px 3px 1px rgba(60, 64, 67, 0.15);\n",
              "      fill: #174EA6;\n",
              "    }\n",
              "\n",
              "    [theme=dark] .colab-df-convert {\n",
              "      background-color: #3B4455;\n",
              "      fill: #D2E3FC;\n",
              "    }\n",
              "\n",
              "    [theme=dark] .colab-df-convert:hover {\n",
              "      background-color: #434B5C;\n",
              "      box-shadow: 0px 1px 3px 1px rgba(0, 0, 0, 0.15);\n",
              "      filter: drop-shadow(0px 1px 2px rgba(0, 0, 0, 0.3));\n",
              "      fill: #FFFFFF;\n",
              "    }\n",
              "  </style>\n",
              "\n",
              "      <script>\n",
              "        const buttonEl =\n",
              "          document.querySelector('#df-7beb8e38-a3a1-43b3-ad07-cbc8e2bee591 button.colab-df-convert');\n",
              "        buttonEl.style.display =\n",
              "          google.colab.kernel.accessAllowed ? 'block' : 'none';\n",
              "\n",
              "        async function convertToInteractive(key) {\n",
              "          const element = document.querySelector('#df-7beb8e38-a3a1-43b3-ad07-cbc8e2bee591');\n",
              "          const dataTable =\n",
              "            await google.colab.kernel.invokeFunction('convertToInteractive',\n",
              "                                                     [key], {});\n",
              "          if (!dataTable) return;\n",
              "\n",
              "          const docLinkHtml = 'Like what you see? Visit the ' +\n",
              "            '<a target=\"_blank\" href=https://colab.research.google.com/notebooks/data_table.ipynb>data table notebook</a>'\n",
              "            + ' to learn more about interactive tables.';\n",
              "          element.innerHTML = '';\n",
              "          dataTable['output_type'] = 'display_data';\n",
              "          await google.colab.output.renderOutput(dataTable, element);\n",
              "          const docLink = document.createElement('div');\n",
              "          docLink.innerHTML = docLinkHtml;\n",
              "          element.appendChild(docLink);\n",
              "        }\n",
              "      </script>\n",
              "    </div>\n",
              "  </div>\n"
            ]
          },
          "metadata": {},
          "execution_count": 50
        }
      ]
    },
    {
      "cell_type": "code",
      "source": [],
      "metadata": {
        "id": "dJitC-BXrnEZ"
      },
      "execution_count": null,
      "outputs": []
    }
  ]
}